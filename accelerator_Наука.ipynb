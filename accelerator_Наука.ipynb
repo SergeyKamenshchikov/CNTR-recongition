{
  "cells": [
    {
      "cell_type": "markdown",
      "metadata": {
        "id": "view-in-github",
        "colab_type": "text"
      },
      "source": [
        "<a href=\"https://colab.research.google.com/github/SergeyKamenshchikov/CNTR-recongition/blob/main/accelerator_%D0%9D%D0%B0%D1%83%D0%BA%D0%B0.ipynb\" target=\"_parent\"><img src=\"https://colab.research.google.com/assets/colab-badge.svg\" alt=\"Open In Colab\"/></a>"
      ]
    },
    {
      "cell_type": "markdown",
      "metadata": {
        "id": "B59bq5skxkBS"
      },
      "source": [
        "##### Install libraries"
      ]
    },
    {
      "cell_type": "code",
      "execution_count": 1,
      "metadata": {
        "colab": {
          "base_uri": "https://localhost:8080/"
        },
        "id": "vUhABMW518AA",
        "outputId": "bf861e43-81f7-4107-80e4-9f7cd7c4c684"
      },
      "outputs": [
        {
          "output_type": "stream",
          "name": "stdout",
          "text": [
            "\u001b[2K   \u001b[90m━━━━━━━━━━━━━━━━━━━━━━━━━━━━━━━━━━━━━━━━\u001b[0m \u001b[32m389.6/389.6 kB\u001b[0m \u001b[31m5.3 MB/s\u001b[0m eta \u001b[36m0:00:00\u001b[0m\n",
            "Reading package lists... Done\n",
            "Building dependency tree... Done\n",
            "Reading state information... Done\n",
            "The following NEW packages will be installed:\n",
            "  poppler-utils\n",
            "0 upgraded, 1 newly installed, 0 to remove and 38 not upgraded.\n",
            "Need to get 186 kB of archives.\n",
            "After this operation, 697 kB of additional disk space will be used.\n",
            "Get:1 http://archive.ubuntu.com/ubuntu jammy-updates/main amd64 poppler-utils amd64 22.02.0-2ubuntu0.10 [186 kB]\n",
            "Fetched 186 kB in 1s (158 kB/s)\n",
            "Selecting previously unselected package poppler-utils.\n",
            "(Reading database ... 126441 files and directories currently installed.)\n",
            "Preparing to unpack .../poppler-utils_22.02.0-2ubuntu0.10_amd64.deb ...\n",
            "Unpacking poppler-utils (22.02.0-2ubuntu0.10) ...\n",
            "Setting up poppler-utils (22.02.0-2ubuntu0.10) ...\n",
            "Processing triggers for man-db (2.10.2-1) ...\n",
            "Get:1 https://developer.download.nvidia.com/compute/cuda/repos/ubuntu2204/x86_64  InRelease [1,581 B]\n",
            "Get:2 https://cloud.r-project.org/bin/linux/ubuntu jammy-cran40/ InRelease [3,628 B]\n",
            "Get:3 https://developer.download.nvidia.com/compute/cuda/repos/ubuntu2204/x86_64  Packages [2,014 kB]\n",
            "Hit:4 https://cli.github.com/packages stable InRelease\n",
            "Get:5 https://cloud.r-project.org/bin/linux/ubuntu jammy-cran40/ Packages [81.0 kB]\n",
            "Hit:6 http://archive.ubuntu.com/ubuntu jammy InRelease\n",
            "Get:7 http://security.ubuntu.com/ubuntu jammy-security InRelease [129 kB]\n",
            "Get:8 http://archive.ubuntu.com/ubuntu jammy-updates InRelease [128 kB]\n",
            "Get:9 https://r2u.stat.illinois.edu/ubuntu jammy InRelease [6,555 B]\n",
            "Hit:10 https://ppa.launchpadcontent.net/deadsnakes/ppa/ubuntu jammy InRelease\n",
            "Get:11 https://r2u.stat.illinois.edu/ubuntu jammy/main all Packages [9,308 kB]\n",
            "Hit:12 https://ppa.launchpadcontent.net/graphics-drivers/ppa/ubuntu jammy InRelease\n",
            "Get:13 http://archive.ubuntu.com/ubuntu jammy-backports InRelease [127 kB]\n",
            "Get:14 http://security.ubuntu.com/ubuntu jammy-security/universe amd64 Packages [1,274 kB]\n",
            "Hit:15 https://ppa.launchpadcontent.net/ubuntugis/ppa/ubuntu jammy InRelease\n",
            "Get:16 http://archive.ubuntu.com/ubuntu jammy-updates/main amd64 Packages [3,690 kB]\n",
            "Get:17 http://security.ubuntu.com/ubuntu jammy-security/main amd64 Packages [3,371 kB]\n",
            "Get:18 http://archive.ubuntu.com/ubuntu jammy-updates/universe amd64 Packages [1,577 kB]\n",
            "Get:19 http://security.ubuntu.com/ubuntu jammy-security/restricted amd64 Packages [5,609 kB]\n",
            "Get:20 http://archive.ubuntu.com/ubuntu jammy-backports/universe amd64 Packages [35.2 kB]\n",
            "Get:21 https://r2u.stat.illinois.edu/ubuntu jammy/main amd64 Packages [2,810 kB]\n",
            "Fetched 30.2 MB in 4s (7,591 kB/s)\n",
            "Reading package lists... Done\n",
            "W: Skipping acquire of configured file 'main/source/Sources' as repository 'https://r2u.stat.illinois.edu/ubuntu jammy InRelease' does not seem to provide it (sources.list entry misspelt?)\n",
            "Reading package lists... Done\n",
            "Building dependency tree... Done\n",
            "Reading state information... Done\n",
            "The following additional packages will be installed:\n",
            "  libcmark-gfm-extensions0.29.0.gfm.3 libcmark-gfm0.29.0.gfm.3 pandoc-data\n",
            "Suggested packages:\n",
            "  texlive-latex-recommended texlive-xetex texlive-luatex pandoc-citeproc\n",
            "  texlive-latex-extra context wkhtmltopdf librsvg2-bin groff ghc nodejs php\n",
            "  python ruby libjs-mathjax libjs-katex citation-style-language-styles\n",
            "The following NEW packages will be installed:\n",
            "  libcmark-gfm-extensions0.29.0.gfm.3 libcmark-gfm0.29.0.gfm.3 pandoc\n",
            "  pandoc-data\n",
            "0 upgraded, 4 newly installed, 0 to remove and 39 not upgraded.\n",
            "Need to get 20.6 MB of archives.\n",
            "After this operation, 156 MB of additional disk space will be used.\n",
            "Get:1 http://archive.ubuntu.com/ubuntu jammy/universe amd64 libcmark-gfm0.29.0.gfm.3 amd64 0.29.0.gfm.3-3 [115 kB]\n",
            "Get:2 http://archive.ubuntu.com/ubuntu jammy/universe amd64 libcmark-gfm-extensions0.29.0.gfm.3 amd64 0.29.0.gfm.3-3 [25.1 kB]\n",
            "Get:3 http://archive.ubuntu.com/ubuntu jammy/universe amd64 pandoc-data all 2.9.2.1-3ubuntu2 [81.8 kB]\n",
            "Get:4 http://archive.ubuntu.com/ubuntu jammy/universe amd64 pandoc amd64 2.9.2.1-3ubuntu2 [20.3 MB]\n",
            "Fetched 20.6 MB in 3s (6,743 kB/s)\n",
            "Selecting previously unselected package libcmark-gfm0.29.0.gfm.3:amd64.\n",
            "(Reading database ... 126471 files and directories currently installed.)\n",
            "Preparing to unpack .../libcmark-gfm0.29.0.gfm.3_0.29.0.gfm.3-3_amd64.deb ...\n",
            "Unpacking libcmark-gfm0.29.0.gfm.3:amd64 (0.29.0.gfm.3-3) ...\n",
            "Selecting previously unselected package libcmark-gfm-extensions0.29.0.gfm.3:amd64.\n",
            "Preparing to unpack .../libcmark-gfm-extensions0.29.0.gfm.3_0.29.0.gfm.3-3_amd64.deb ...\n",
            "Unpacking libcmark-gfm-extensions0.29.0.gfm.3:amd64 (0.29.0.gfm.3-3) ...\n",
            "Selecting previously unselected package pandoc-data.\n",
            "Preparing to unpack .../pandoc-data_2.9.2.1-3ubuntu2_all.deb ...\n",
            "Unpacking pandoc-data (2.9.2.1-3ubuntu2) ...\n",
            "Selecting previously unselected package pandoc.\n",
            "Preparing to unpack .../pandoc_2.9.2.1-3ubuntu2_amd64.deb ...\n",
            "Unpacking pandoc (2.9.2.1-3ubuntu2) ...\n",
            "Setting up libcmark-gfm0.29.0.gfm.3:amd64 (0.29.0.gfm.3-3) ...\n",
            "Setting up libcmark-gfm-extensions0.29.0.gfm.3:amd64 (0.29.0.gfm.3-3) ...\n",
            "Setting up pandoc-data (2.9.2.1-3ubuntu2) ...\n",
            "Setting up pandoc (2.9.2.1-3ubuntu2) ...\n",
            "Processing triggers for man-db (2.10.2-1) ...\n",
            "Processing triggers for libc-bin (2.35-0ubuntu3.8) ...\n",
            "/sbin/ldconfig.real: /usr/local/lib/libtbbbind_2_0.so.3 is not a symbolic link\n",
            "\n",
            "/sbin/ldconfig.real: /usr/local/lib/libtbbmalloc.so.2 is not a symbolic link\n",
            "\n",
            "/sbin/ldconfig.real: /usr/local/lib/libhwloc.so.15 is not a symbolic link\n",
            "\n",
            "/sbin/ldconfig.real: /usr/local/lib/libumf.so.0 is not a symbolic link\n",
            "\n",
            "/sbin/ldconfig.real: /usr/local/lib/libur_adapter_level_zero_v2.so.0 is not a symbolic link\n",
            "\n",
            "/sbin/ldconfig.real: /usr/local/lib/libtcm_debug.so.1 is not a symbolic link\n",
            "\n",
            "/sbin/ldconfig.real: /usr/local/lib/libtbb.so.12 is not a symbolic link\n",
            "\n",
            "/sbin/ldconfig.real: /usr/local/lib/libtbbbind_2_5.so.3 is not a symbolic link\n",
            "\n",
            "/sbin/ldconfig.real: /usr/local/lib/libtbbbind.so.3 is not a symbolic link\n",
            "\n",
            "/sbin/ldconfig.real: /usr/local/lib/libur_loader.so.0 is not a symbolic link\n",
            "\n",
            "/sbin/ldconfig.real: /usr/local/lib/libur_adapter_level_zero.so.0 is not a symbolic link\n",
            "\n",
            "/sbin/ldconfig.real: /usr/local/lib/libtbbmalloc_proxy.so.2 is not a symbolic link\n",
            "\n",
            "/sbin/ldconfig.real: /usr/local/lib/libtcm.so.1 is not a symbolic link\n",
            "\n",
            "/sbin/ldconfig.real: /usr/local/lib/libur_adapter_opencl.so.0 is not a symbolic link\n",
            "\n",
            "Collecting python-pptx\n",
            "  Downloading python_pptx-1.0.2-py3-none-any.whl.metadata (2.5 kB)\n",
            "Requirement already satisfied: pandas in /usr/local/lib/python3.12/dist-packages (2.2.2)\n",
            "Requirement already satisfied: tabulate in /usr/local/lib/python3.12/dist-packages (0.9.0)\n",
            "Requirement already satisfied: Pillow>=3.3.2 in /usr/local/lib/python3.12/dist-packages (from python-pptx) (11.3.0)\n",
            "Collecting XlsxWriter>=0.5.7 (from python-pptx)\n",
            "  Downloading xlsxwriter-3.2.9-py3-none-any.whl.metadata (2.7 kB)\n",
            "Requirement already satisfied: lxml>=3.1.0 in /usr/local/lib/python3.12/dist-packages (from python-pptx) (5.4.0)\n",
            "Requirement already satisfied: typing-extensions>=4.9.0 in /usr/local/lib/python3.12/dist-packages (from python-pptx) (4.15.0)\n",
            "Requirement already satisfied: numpy>=1.26.0 in /usr/local/lib/python3.12/dist-packages (from pandas) (2.0.2)\n",
            "Requirement already satisfied: python-dateutil>=2.8.2 in /usr/local/lib/python3.12/dist-packages (from pandas) (2.9.0.post0)\n",
            "Requirement already satisfied: pytz>=2020.1 in /usr/local/lib/python3.12/dist-packages (from pandas) (2025.2)\n",
            "Requirement already satisfied: tzdata>=2022.7 in /usr/local/lib/python3.12/dist-packages (from pandas) (2025.2)\n",
            "Requirement already satisfied: six>=1.5 in /usr/local/lib/python3.12/dist-packages (from python-dateutil>=2.8.2->pandas) (1.17.0)\n",
            "Downloading python_pptx-1.0.2-py3-none-any.whl (472 kB)\n",
            "\u001b[2K   \u001b[90m━━━━━━━━━━━━━━━━━━━━━━━━━━━━━━━━━━━━━━━━\u001b[0m \u001b[32m472.8/472.8 kB\u001b[0m \u001b[31m5.8 MB/s\u001b[0m eta \u001b[36m0:00:00\u001b[0m\n",
            "\u001b[?25hDownloading xlsxwriter-3.2.9-py3-none-any.whl (175 kB)\n",
            "\u001b[2K   \u001b[90m━━━━━━━━━━━━━━━━━━━━━━━━━━━━━━━━━━━━━━━━\u001b[0m \u001b[32m175.3/175.3 kB\u001b[0m \u001b[31m24.3 MB/s\u001b[0m eta \u001b[36m0:00:00\u001b[0m\n",
            "\u001b[?25hInstalling collected packages: XlsxWriter, python-pptx\n",
            "Successfully installed XlsxWriter-3.2.9 python-pptx-1.0.2\n",
            "Collecting pypandoc\n",
            "  Downloading pypandoc-1.15-py3-none-any.whl.metadata (16 kB)\n",
            "Downloading pypandoc-1.15-py3-none-any.whl (21 kB)\n",
            "Installing collected packages: pypandoc\n",
            "Successfully installed pypandoc-1.15\n",
            "Collecting pdfplumber\n",
            "  Downloading pdfplumber-0.11.7-py3-none-any.whl.metadata (42 kB)\n",
            "\u001b[2K     \u001b[90m━━━━━━━━━━━━━━━━━━━━━━━━━━━━━━━━━━━━━━━━\u001b[0m \u001b[32m42.8/42.8 kB\u001b[0m \u001b[31m1.4 MB/s\u001b[0m eta \u001b[36m0:00:00\u001b[0m\n",
            "\u001b[?25hCollecting pdfminer.six==20250506 (from pdfplumber)\n",
            "  Downloading pdfminer_six-20250506-py3-none-any.whl.metadata (4.2 kB)\n",
            "Requirement already satisfied: Pillow>=9.1 in /usr/local/lib/python3.12/dist-packages (from pdfplumber) (11.3.0)\n",
            "Collecting pypdfium2>=4.18.0 (from pdfplumber)\n",
            "  Downloading pypdfium2-4.30.0-py3-none-manylinux_2_17_x86_64.manylinux2014_x86_64.whl.metadata (48 kB)\n",
            "\u001b[2K     \u001b[90m━━━━━━━━━━━━━━━━━━━━━━━━━━━━━━━━━━━━━━━━\u001b[0m \u001b[32m48.5/48.5 kB\u001b[0m \u001b[31m4.5 MB/s\u001b[0m eta \u001b[36m0:00:00\u001b[0m\n",
            "\u001b[?25hRequirement already satisfied: charset-normalizer>=2.0.0 in /usr/local/lib/python3.12/dist-packages (from pdfminer.six==20250506->pdfplumber) (3.4.3)\n",
            "Requirement already satisfied: cryptography>=36.0.0 in /usr/local/lib/python3.12/dist-packages (from pdfminer.six==20250506->pdfplumber) (43.0.3)\n",
            "Requirement already satisfied: cffi>=1.12 in /usr/local/lib/python3.12/dist-packages (from cryptography>=36.0.0->pdfminer.six==20250506->pdfplumber) (2.0.0)\n",
            "Requirement already satisfied: pycparser in /usr/local/lib/python3.12/dist-packages (from cffi>=1.12->cryptography>=36.0.0->pdfminer.six==20250506->pdfplumber) (2.23)\n",
            "Downloading pdfplumber-0.11.7-py3-none-any.whl (60 kB)\n",
            "\u001b[2K   \u001b[90m━━━━━━━━━━━━━━━━━━━━━━━━━━━━━━━━━━━━━━━━\u001b[0m \u001b[32m60.0/60.0 kB\u001b[0m \u001b[31m5.7 MB/s\u001b[0m eta \u001b[36m0:00:00\u001b[0m\n",
            "\u001b[?25hDownloading pdfminer_six-20250506-py3-none-any.whl (5.6 MB)\n",
            "\u001b[2K   \u001b[90m━━━━━━━━━━━━━━━━━━━━━━━━━━━━━━━━━━━━━━━━\u001b[0m \u001b[32m5.6/5.6 MB\u001b[0m \u001b[31m43.9 MB/s\u001b[0m eta \u001b[36m0:00:00\u001b[0m\n",
            "\u001b[?25hDownloading pypdfium2-4.30.0-py3-none-manylinux_2_17_x86_64.manylinux2014_x86_64.whl (2.8 MB)\n",
            "\u001b[2K   \u001b[90m━━━━━━━━━━━━━━━━━━━━━━━━━━━━━━━━━━━━━━━━\u001b[0m \u001b[32m2.8/2.8 MB\u001b[0m \u001b[31m129.8 MB/s\u001b[0m eta \u001b[36m0:00:00\u001b[0m\n",
            "\u001b[?25hInstalling collected packages: pypdfium2, pdfminer.six, pdfplumber\n",
            "Successfully installed pdfminer.six-20250506 pdfplumber-0.11.7 pypdfium2-4.30.0\n",
            "Collecting pdf2image\n",
            "  Downloading pdf2image-1.17.0-py3-none-any.whl.metadata (6.2 kB)\n",
            "Requirement already satisfied: pillow in /usr/local/lib/python3.12/dist-packages (from pdf2image) (11.3.0)\n",
            "Downloading pdf2image-1.17.0-py3-none-any.whl (11 kB)\n",
            "Installing collected packages: pdf2image\n",
            "Successfully installed pdf2image-1.17.0\n",
            "Collecting easyocr\n",
            "  Downloading easyocr-1.7.2-py3-none-any.whl.metadata (10 kB)\n",
            "Requirement already satisfied: torch in /usr/local/lib/python3.12/dist-packages (from easyocr) (2.8.0+cu126)\n",
            "Requirement already satisfied: torchvision>=0.5 in /usr/local/lib/python3.12/dist-packages (from easyocr) (0.23.0+cu126)\n",
            "Requirement already satisfied: opencv-python-headless in /usr/local/lib/python3.12/dist-packages (from easyocr) (4.12.0.88)\n",
            "Requirement already satisfied: scipy in /usr/local/lib/python3.12/dist-packages (from easyocr) (1.16.2)\n",
            "Requirement already satisfied: numpy in /usr/local/lib/python3.12/dist-packages (from easyocr) (2.0.2)\n",
            "Requirement already satisfied: Pillow in /usr/local/lib/python3.12/dist-packages (from easyocr) (11.3.0)\n",
            "Requirement already satisfied: scikit-image in /usr/local/lib/python3.12/dist-packages (from easyocr) (0.25.2)\n",
            "Collecting python-bidi (from easyocr)\n",
            "  Downloading python_bidi-0.6.6-cp312-cp312-manylinux_2_17_x86_64.manylinux2014_x86_64.whl.metadata (4.9 kB)\n",
            "Requirement already satisfied: PyYAML in /usr/local/lib/python3.12/dist-packages (from easyocr) (6.0.2)\n",
            "Requirement already satisfied: Shapely in /usr/local/lib/python3.12/dist-packages (from easyocr) (2.1.1)\n",
            "Collecting pyclipper (from easyocr)\n",
            "  Downloading pyclipper-1.3.0.post6-cp312-cp312-manylinux_2_17_x86_64.manylinux2014_x86_64.whl.metadata (9.0 kB)\n",
            "Collecting ninja (from easyocr)\n",
            "  Downloading ninja-1.13.0-py3-none-manylinux2014_x86_64.manylinux_2_17_x86_64.whl.metadata (5.1 kB)\n",
            "Requirement already satisfied: filelock in /usr/local/lib/python3.12/dist-packages (from torch->easyocr) (3.19.1)\n",
            "Requirement already satisfied: typing-extensions>=4.10.0 in /usr/local/lib/python3.12/dist-packages (from torch->easyocr) (4.15.0)\n",
            "Requirement already satisfied: setuptools in /usr/local/lib/python3.12/dist-packages (from torch->easyocr) (75.2.0)\n",
            "Requirement already satisfied: sympy>=1.13.3 in /usr/local/lib/python3.12/dist-packages (from torch->easyocr) (1.13.3)\n",
            "Requirement already satisfied: networkx in /usr/local/lib/python3.12/dist-packages (from torch->easyocr) (3.5)\n",
            "Requirement already satisfied: jinja2 in /usr/local/lib/python3.12/dist-packages (from torch->easyocr) (3.1.6)\n",
            "Requirement already satisfied: fsspec in /usr/local/lib/python3.12/dist-packages (from torch->easyocr) (2025.3.0)\n",
            "Requirement already satisfied: nvidia-cuda-nvrtc-cu12==12.6.77 in /usr/local/lib/python3.12/dist-packages (from torch->easyocr) (12.6.77)\n",
            "Requirement already satisfied: nvidia-cuda-runtime-cu12==12.6.77 in /usr/local/lib/python3.12/dist-packages (from torch->easyocr) (12.6.77)\n",
            "Requirement already satisfied: nvidia-cuda-cupti-cu12==12.6.80 in /usr/local/lib/python3.12/dist-packages (from torch->easyocr) (12.6.80)\n",
            "Requirement already satisfied: nvidia-cudnn-cu12==9.10.2.21 in /usr/local/lib/python3.12/dist-packages (from torch->easyocr) (9.10.2.21)\n",
            "Requirement already satisfied: nvidia-cublas-cu12==12.6.4.1 in /usr/local/lib/python3.12/dist-packages (from torch->easyocr) (12.6.4.1)\n",
            "Requirement already satisfied: nvidia-cufft-cu12==11.3.0.4 in /usr/local/lib/python3.12/dist-packages (from torch->easyocr) (11.3.0.4)\n",
            "Requirement already satisfied: nvidia-curand-cu12==10.3.7.77 in /usr/local/lib/python3.12/dist-packages (from torch->easyocr) (10.3.7.77)\n",
            "Requirement already satisfied: nvidia-cusolver-cu12==11.7.1.2 in /usr/local/lib/python3.12/dist-packages (from torch->easyocr) (11.7.1.2)\n",
            "Requirement already satisfied: nvidia-cusparse-cu12==12.5.4.2 in /usr/local/lib/python3.12/dist-packages (from torch->easyocr) (12.5.4.2)\n",
            "Requirement already satisfied: nvidia-cusparselt-cu12==0.7.1 in /usr/local/lib/python3.12/dist-packages (from torch->easyocr) (0.7.1)\n",
            "Requirement already satisfied: nvidia-nccl-cu12==2.27.3 in /usr/local/lib/python3.12/dist-packages (from torch->easyocr) (2.27.3)\n",
            "Requirement already satisfied: nvidia-nvtx-cu12==12.6.77 in /usr/local/lib/python3.12/dist-packages (from torch->easyocr) (12.6.77)\n",
            "Requirement already satisfied: nvidia-nvjitlink-cu12==12.6.85 in /usr/local/lib/python3.12/dist-packages (from torch->easyocr) (12.6.85)\n",
            "Requirement already satisfied: nvidia-cufile-cu12==1.11.1.6 in /usr/local/lib/python3.12/dist-packages (from torch->easyocr) (1.11.1.6)\n",
            "Requirement already satisfied: triton==3.4.0 in /usr/local/lib/python3.12/dist-packages (from torch->easyocr) (3.4.0)\n",
            "Requirement already satisfied: imageio!=2.35.0,>=2.33 in /usr/local/lib/python3.12/dist-packages (from scikit-image->easyocr) (2.37.0)\n",
            "Requirement already satisfied: tifffile>=2022.8.12 in /usr/local/lib/python3.12/dist-packages (from scikit-image->easyocr) (2025.9.9)\n",
            "Requirement already satisfied: packaging>=21 in /usr/local/lib/python3.12/dist-packages (from scikit-image->easyocr) (25.0)\n",
            "Requirement already satisfied: lazy-loader>=0.4 in /usr/local/lib/python3.12/dist-packages (from scikit-image->easyocr) (0.4)\n",
            "Requirement already satisfied: mpmath<1.4,>=1.1.0 in /usr/local/lib/python3.12/dist-packages (from sympy>=1.13.3->torch->easyocr) (1.3.0)\n",
            "Requirement already satisfied: MarkupSafe>=2.0 in /usr/local/lib/python3.12/dist-packages (from jinja2->torch->easyocr) (3.0.2)\n",
            "Downloading easyocr-1.7.2-py3-none-any.whl (2.9 MB)\n",
            "\u001b[2K   \u001b[90m━━━━━━━━━━━━━━━━━━━━━━━━━━━━━━━━━━━━━━━━\u001b[0m \u001b[32m2.9/2.9 MB\u001b[0m \u001b[31m20.2 MB/s\u001b[0m eta \u001b[36m0:00:00\u001b[0m\n",
            "\u001b[?25hDownloading ninja-1.13.0-py3-none-manylinux2014_x86_64.manylinux_2_17_x86_64.whl (180 kB)\n",
            "\u001b[2K   \u001b[90m━━━━━━━━━━━━━━━━━━━━━━━━━━━━━━━━━━━━━━━━\u001b[0m \u001b[32m180.7/180.7 kB\u001b[0m \u001b[31m24.8 MB/s\u001b[0m eta \u001b[36m0:00:00\u001b[0m\n",
            "\u001b[?25hDownloading pyclipper-1.3.0.post6-cp312-cp312-manylinux_2_17_x86_64.manylinux2014_x86_64.whl (963 kB)\n",
            "\u001b[2K   \u001b[90m━━━━━━━━━━━━━━━━━━━━━━━━━━━━━━━━━━━━━━━━\u001b[0m \u001b[32m963.8/963.8 kB\u001b[0m \u001b[31m73.8 MB/s\u001b[0m eta \u001b[36m0:00:00\u001b[0m\n",
            "\u001b[?25hDownloading python_bidi-0.6.6-cp312-cp312-manylinux_2_17_x86_64.manylinux2014_x86_64.whl (292 kB)\n",
            "\u001b[2K   \u001b[90m━━━━━━━━━━━━━━━━━━━━━━━━━━━━━━━━━━━━━━━━\u001b[0m \u001b[32m292.1/292.1 kB\u001b[0m \u001b[31m36.3 MB/s\u001b[0m eta \u001b[36m0:00:00\u001b[0m\n",
            "\u001b[?25hInstalling collected packages: python-bidi, pyclipper, ninja, easyocr\n",
            "Successfully installed easyocr-1.7.2 ninja-1.13.0 pyclipper-1.3.0.post6 python-bidi-0.6.6\n"
          ]
        }
      ],
      "source": [
        "!pip3 install openai==1.55.3 -q\n",
        "!apt-get install poppler-utils\n",
        "\n",
        "!apt-get update && apt-get install -y pandoc\n",
        "!pip3 install python-pptx pandas tabulate\n",
        "!pip3 install pypandoc\n",
        "\n",
        "!pip3 install pdfplumber\n",
        "!pip3 install pdf2image\n",
        "!pip3 install easyocr"
      ]
    },
    {
      "cell_type": "markdown",
      "metadata": {
        "id": "9PgXsB5kxpkF"
      },
      "source": [
        "##### Import libraries:"
      ]
    },
    {
      "cell_type": "code",
      "execution_count": 2,
      "metadata": {
        "colab": {
          "base_uri": "https://localhost:8080/"
        },
        "id": "sWflTIct2Ml9",
        "outputId": "cfdac611-8c2f-4e66-fd29-88599903bf8f"
      },
      "outputs": [
        {
          "output_type": "stream",
          "name": "stderr",
          "text": [
            "[nltk_data] Downloading package punkt to /root/nltk_data...\n",
            "[nltk_data]   Unzipping tokenizers/punkt.zip.\n",
            "[nltk_data] Downloading package punkt_tab to /root/nltk_data...\n",
            "[nltk_data]   Unzipping tokenizers/punkt_tab.zip.\n"
          ]
        }
      ],
      "source": [
        "from openai import OpenAI\n",
        "\n",
        "import os, time, json\n",
        "\n",
        "import numpy as np\n",
        "import pandas as pd\n",
        "\n",
        "from tqdm import tqdm\n",
        "\n",
        "from pptx import Presentation\n",
        "\n",
        "from google.colab import drive\n",
        "from google.colab import output\n",
        "from google.colab import files\n",
        "\n",
        "from joblib import Parallel, delayed\n",
        "from concurrent.futures import ThreadPoolExecutor, as_completed\n",
        "from IPython.display import display\n",
        "\n",
        "import nltk, re\n",
        "from nltk.tokenize import sent_tokenize\n",
        "\n",
        "nltk.download('punkt')\n",
        "nltk.download('punkt_tab')\n",
        "\n",
        "from tqdm import tqdm\n",
        "\n",
        "from pdf2image import convert_from_path\n",
        "import easyocr, pdfplumber\n",
        "\n",
        "import warnings, logging\n",
        "\n",
        "import threading, queue\n",
        "from collections import namedtuple\n",
        "\n",
        "import base64\n",
        "import tempfile\n",
        "import pypandoc\n",
        "\n",
        "from PIL import Image"
      ]
    },
    {
      "cell_type": "markdown",
      "metadata": {
        "id": "ibVtdNydwZJj"
      },
      "source": [
        "##### Ignore warnings"
      ]
    },
    {
      "cell_type": "code",
      "execution_count": 3,
      "metadata": {
        "id": "ogrTAt26wdIR"
      },
      "outputs": [],
      "source": [
        "warnings.filterwarnings(\"ignore\")\n",
        "logging.getLogger(\"pdfminer\").setLevel(logging.ERROR)"
      ]
    },
    {
      "cell_type": "markdown",
      "metadata": {
        "id": "uz890Tzywq7C"
      },
      "source": [
        "##### Keys"
      ]
    },
    {
      "cell_type": "code",
      "execution_count": 4,
      "metadata": {
        "id": "Gl5TIOlawu4I"
      },
      "outputs": [],
      "source": []
    },
    {
      "cell_type": "markdown",
      "metadata": {
        "id": "ILekkyFAQotF"
      },
      "source": [
        "##### UDFs"
      ]
    },
    {
      "cell_type": "code",
      "execution_count": 5,
      "metadata": {
        "id": "TMbxXNuaQrMh"
      },
      "outputs": [],
      "source": [
        "# docx converters\n",
        "def docx_to_plain_with_simple_tables(path: str) -> str:\n",
        "    return pypandoc.convert_file(path, to=\"plain+simple_tables\", format=\"docx\")\n",
        "\n",
        "def pptx_to_markdown(pptx_file):\n",
        "    prs = Presentation(pptx_file)\n",
        "    md_content = []\n",
        "\n",
        "    for i, slide in enumerate(prs.slides, 1):\n",
        "        md_content.append(f\"## Slide {i}\\n\")\n",
        "\n",
        "        for shape in slide.shapes:\n",
        "            if shape.has_text_frame:\n",
        "                for paragraph in shape.text_frame.paragraphs:\n",
        "                    if paragraph.text.strip():\n",
        "                        md_content.append(paragraph.text + \"\\n\")\n",
        "\n",
        "            elif shape.has_table:\n",
        "                table = shape.table\n",
        "                table_data = []\n",
        "                for row in table.rows:\n",
        "                    row_data = [cell.text.strip() for cell in row.cells]\n",
        "                    table_data.append(row_data)\n",
        "\n",
        "                if table_data:\n",
        "                    df = pd.DataFrame(table_data[1:], columns=table_data[0])\n",
        "                    md_content.append(df.to_markdown(index=False) + \"\\n\\n\")\n",
        "\n",
        "        md_content.append(\"---\\n\\n\")\n",
        "\n",
        "    return ''.join(md_content)\n",
        "# docx converters\n",
        "\n",
        "# field extraction\n",
        "def extract_field(text, prompt, counter=0, model=\"o3\") -> dict:\n",
        "\n",
        "    client = OpenAI()\n",
        "\n",
        "    system_prompt = (\"Ты эксперт по технологическим стартапам и смотришь презентацию стартапа для венчурного фонда\")\n",
        "\n",
        "    schema = {\"name\": \"startup_analysis\", \"schema\": {\"type\": \"object\", \"properties\": {\"university\": {\"type\": \"string\"}, \"legal_name\": {\"type\": \"string\"},\\\n",
        "                \"region\": {\"type\": \"string\"}, \"project_name\": {\"type\": \"string\"}, \"product_description\": {\"type\": \"string\"},\n",
        "                \"ugt\": {\"type\": \"string\"}, \"ip\": {\"type\": \"string\"}, \"team\": {\"type\": \"string\"}, \"bm\": {\"type\": \"string\"},\n",
        "                \"market\": {\"type\": \"string\"}, \"roadmap\": {\"type\": \"string\"}, \"competitors\": {\"type\": \"string\"},\n",
        "                \"investments\": {\"type\": \"string\"}, \"risks\": {\"type\": \"string\"}},\n",
        "\n",
        "            \"required\": [\"university\", \"legal_name\", \"region\", \"project_name\", \"product_description\", \"ugt\", \"ip\", \"team\", \"bm\", \"market\",\n",
        "                \"roadmap\", \"competitors\", \"investments\", \"risks\"], \"additionalProperties\": False}, \"strict\": True}\n",
        "\n",
        "    messages = [{\"role\": \"system\", \"content\": system_prompt}, {\"role\": \"user\", \"content\": f'task: {prompt} : \"text: {text}\"'}]\n",
        "    response = client.chat.completions.create(model=model, messages=messages, response_format={\"type\": \"json_schema\", \"json_schema\": schema})\n",
        "\n",
        "    return json.loads(response.choices[0].message.content)\n",
        "\n",
        "def return_fields(doc_txt):\n",
        "\n",
        "    result = extract_field(doc_txt, '''извлеки отсюда информацию в JSON формате:\n",
        "\n",
        "        1. university: ВУЗ (высшее учебное заведение), который предлагает проект - если нет, выведи только одно слово 'НЕТ'\n",
        "        2. legal_name: юридическое наименование компании, которая предлагает продукт в формате ООО или АО или ПАО и затем фраза в кавычках - если нет, выведи только одно слово 'НЕТ'\n",
        "        3. region: регион, в котором работает компания или ВУЗ - если нет, выведи только одно слово 'НЕТ'\n",
        "        4. project_name: название проекта - если нет, выведи только одно слово 'НЕТ'\n",
        "        5. product_description: описание технологического продукта компании, с умпоминанием технологии и решаемой продуктом проблемы пользователя (максимум три предложения) - если нет, выведи только одно слово 'НЕТ'\n",
        "        6. ugt: УГТ проекта (уровень технологической готовности) - может быть 'УГТ 1', 'УГТ 2', 'УГТ 3', 'УГТ 4', 'УГТ 5', 'УГТ 6', 'УГТ 7', 'УГТ 8', 'УГТ 9' - если нет, выведи только одно слово 'НЕТ'\n",
        "        7. ip: интеллектуальная собственность и что удалось сделать на сегодня команде по проекту (максимум пять предложений) - если нет, выведи только одно слово 'НЕТ'\n",
        "        8. team: команда проекта - ФИО ключевых сотрудников, описание их опыта и экспертизы, контакты ключевых сотрудников (максимум пять предложений) - если нет, выведи только одно слово 'НЕТ'\n",
        "        9. bm: бизнес модель (максимум три предложения) - если нет, выведи только одно слово 'НЕТ'\n",
        "        10. market: целевой рынок продукта с объемом и описанием (максимум три предложения) - если нет, выведи только одно слово 'НЕТ'\n",
        "        11. roadmap: дорожная карта проекта с датами (максимум пять предложений) - если нет, выведи только одно слово 'НЕТ'\n",
        "        12. competitors: чем лучше и хуже конкурентов и аналогов в России и в Мире (максимум пять предложений) - если нет, выведи только одно слово 'НЕТ'\n",
        "        13. investments: требуемая сумма инвестиций для развития проекта (не от государства, не грант и не субсидия) - если нет, выведи только одно слово 'НЕТ'\n",
        "        14. risks: указанные риски проекта - включая технологические, рыночные, правовые, операционные и финансовые (максимум три предложения) - если нет, выведи только одно слово 'НЕТ''')\n",
        "\n",
        "    return result\n",
        "#/field extraction\n",
        "\n",
        "# tech classification\n",
        "def nptl_class(text, counter=0, model=\"o3\", system_prompt = None):\n",
        "\n",
        "    client = OpenAI()\n",
        "\n",
        "    system_prompt = \"Ты эксперт по технологическим стартапам и смотришь презентацию стартапа для венчурного фонда\"\n",
        "\n",
        "    prompt = '''К какому одному ключевому направлению из списка 'Новые материалы и химия', 'Новые технологии сбережение здоровья',\n",
        "    'Средства производства и автоматизации', 'Новые атомные и энергетические технологии', 'Экономика данных и цифровая трансформация',\n",
        "    'Космос', 'Технологическое обеспечение биоэкономики', 'Беспилотные авиационные системы', 'Технологическое обеспечение продовольственной безопасности',\n",
        "    'Промышленное обеспечение транспортной мобильности' относится этот текст, если ни к какому выведи 'Другое/не определено':'''\n",
        "\n",
        "    messages = [{\"role\": \"system\", \"content\": system_prompt}, {\"role\": \"user\", \"content\": f'task: {prompt} : \"text: {text}\" '}]\n",
        "    response = client.chat.completions.create(model=model, messages=messages).choices[0].message.content\n",
        "\n",
        "    return response\n",
        "#/tech classification\n",
        "\n",
        "# extract technology\n",
        "def extract_technology(text):\n",
        "\n",
        "  system_prompt = \"Ты эксперт по технологическим стартапам и смотришь презентацию стартапа для венчурного фонда\"\n",
        "\n",
        "  messages = [{\"role\": \"system\", \"content\": system_prompt}, {\"role\": \"user\", \"content\": 'Извлеки из этого описания ключевые технологические методы для работы продукта\\\n",
        "   - одна фраза, исключающая упоминание продукта и решаемых им задач (вез вводных слов)' + \": '\" + text + \"'\"}]\n",
        "\n",
        "  completion = OpenAI().chat.completions.create(model=\"gpt-4o-mini\", messages=messages, temperature=0)\n",
        "  content = completion.choices[0].message.content\n",
        "\n",
        "  return str(content).replace('\"','')\n",
        "#/extract technology\n",
        "\n",
        "# parallel computations\n",
        "def parallel_extraction(texts, max_workers: int = 10):\n",
        "    with ThreadPoolExecutor(max_workers=max_workers) as executor:\n",
        "        results = list(tqdm(executor.map(lambda x: return_fields(x), texts), total=len(texts)))\n",
        "    return results\n",
        "\n",
        "def parallel_text_func(texts, func, max_workers: int = 10):\n",
        "    with ThreadPoolExecutor(max_workers=max_workers) as executor:\n",
        "        results = list(tqdm(executor.map(lambda x: func(x), texts), total=len(texts)))\n",
        "    return results\n",
        "#/parallel computations"
      ]
    },
    {
      "cell_type": "markdown",
      "metadata": {
        "id": "raVzrK7J0WJm"
      },
      "source": [
        "##### Load decks"
      ]
    },
    {
      "cell_type": "code",
      "execution_count": 6,
      "metadata": {
        "colab": {
          "base_uri": "https://localhost:8080/"
        },
        "id": "MTxgh_-s0Ydh",
        "outputId": "8edad1b9-d5b9-4c19-de0f-52582cfc5822"
      },
      "outputs": [
        {
          "output_type": "stream",
          "name": "stdout",
          "text": [
            "Mounted at /content/drive\n"
          ]
        }
      ],
      "source": [
        "drive.mount('/content/drive')\n",
        "!cp -r '/content/drive/My Drive/Pitchdecks' '/content/'"
      ]
    },
    {
      "cell_type": "markdown",
      "metadata": {
        "id": "-mDahnDV2Erp"
      },
      "source": [
        "##### Extract fields"
      ]
    },
    {
      "cell_type": "code",
      "execution_count": 7,
      "metadata": {
        "colab": {
          "base_uri": "https://localhost:8080/",
          "height": 156
        },
        "id": "r_Sks6AC2L0M",
        "outputId": "c14fc145-8aae-43a3-c2bc-3b3c25fbe356"
      },
      "outputs": [
        {
          "output_type": "stream",
          "name": "stderr",
          "text": [
            "0it [00:00, ?it/s]\n",
            "0it [00:00, ?it/s]\n",
            " 93%|█████████▎| 42/45 [00:48<00:03,  1.13s/it]WARNING:easyocr.easyocr:Downloading detection model, please wait. This may take several minutes depending upon your network connection.\n"
          ]
        },
        {
          "output_type": "stream",
          "name": "stdout",
          "text": [
            "Progress: |██████████████████████████████████████████████████| 100.0% Complete"
          ]
        },
        {
          "output_type": "stream",
          "name": "stderr",
          "text": [
            "WARNING:easyocr.easyocr:Downloading recognition model, please wait. This may take several minutes depending upon your network connection.\n"
          ]
        },
        {
          "output_type": "stream",
          "name": "stdout",
          "text": [
            "Progress: |██████████████████████████████████████████████████| 100.1% Complete"
          ]
        },
        {
          "output_type": "stream",
          "name": "stderr",
          "text": [
            "100%|██████████| 45/45 [01:28<00:00,  1.97s/it]\n",
            "100%|██████████| 45/45 [02:38<00:00,  3.51s/it]\n"
          ]
        },
        {
          "output_type": "stream",
          "name": "stdout",
          "text": [
            "CPU times: user 1min 41s, sys: 1.91 s, total: 1min 43s\n",
            "Wall time: 7min 52s\n"
          ]
        }
      ],
      "source": [
        "%%time\n",
        "\n",
        "df_fields, file_texts, adresses = [], [], []\n",
        "folder_path = '/content/Pitchdecks'\n",
        "\n",
        "### Extract .docx files\n",
        "docx_files = sorted([f for f in os.listdir(folder_path) if f.endswith('.docx')])\n",
        "\n",
        "for docx_file in tqdm(docx_files):\n",
        "\n",
        "    pptx_path = os.path.join(folder_path, docx_file)\n",
        "    file_texts.append(docx_to_plain_with_simple_tables(pptx_path))\n",
        "    adresses.append(pptx_path.replace('/content/Питчи/', ''))\n",
        "###/Extract .docx files\n",
        "\n",
        "### Extract .pptx files\n",
        "pptx_files = sorted([f for f in os.listdir(folder_path) if f.endswith('.pptx')])\n",
        "\n",
        "for pptx_file in tqdm(pptx_files):\n",
        "\n",
        "    pptx_path = os.path.join(folder_path, pptx_file)\n",
        "    file_texts.append(pptx_to_markdown(pptx_path))\n",
        "    adresses.append(pptx_path.replace('/content/Питчи/', ''))\n",
        "###/Extract .pptx files\n",
        "\n",
        "### Extract .pdf files\n",
        "pdf_files = sorted([f for f in os.listdir(folder_path) if f.endswith('.pdf')])\n",
        "\n",
        "for pdf_file in tqdm(pdf_files):\n",
        "\n",
        "    pdf_path = os.path.join(folder_path, pdf_file)\n",
        "    adresses.append(pdf_path.replace('/content/Питчи/', ''))\n",
        "\n",
        "    # Extract text with PDF reader\n",
        "    with pdfplumber.open(pdf_path) as pdf:\n",
        "      text = ''\n",
        "      for page in pdf.pages:\n",
        "          text += page.extract_text() + '\\n'\n",
        "\n",
        "    doc_txt = text.replace('02.12.2024, 22:35 Документ от auto-coder.net', '')\n",
        "\n",
        "    if not any(char.isalpha() for char in doc_txt):\n",
        "\n",
        "        pdf_images = convert_from_path(pdf_path, thread_count=10)\n",
        "\n",
        "        ###/Image recognition ###\n",
        "        for idx, image in enumerate(pdf_images):\n",
        "          image.save(f'pdf_page_{idx + 1}.png', 'PNG')\n",
        "\n",
        "        image_dir = '/content/'\n",
        "        reader = easyocr.Reader(['ru', 'en'], gpu = True)\n",
        "\n",
        "        text_results = []\n",
        "\n",
        "        for filename in sorted(os.listdir(image_dir)):\n",
        "\n",
        "            if filename.lower().endswith('.png'):\n",
        "\n",
        "              try:\n",
        "                img_path = os.path.join(image_dir, filename)\n",
        "                result = reader.readtext(img_path, detail=0, paragraph=True)\n",
        "                text_results.extend(result)\n",
        "              except:\n",
        "                print(\"Can't recognize the image\")\n",
        "\n",
        "        img_text = '\\n'.join(text_results)\n",
        "        !rm /content/*.png\n",
        "        ###/Image recognition ###\n",
        "\n",
        "        file_texts.append('|Краткое содержание текста: ' + img_text)\n",
        "    else:\n",
        "        file_texts.append('|Краткое содержание текста: ' + doc_txt)\n",
        "###/Extract .pdf files\n",
        "\n",
        "df_fields = list(parallel_extraction(file_texts))\n",
        "output.eval_js('new Audio(\"https://upload.wikimedia.org/wikipedia/commons/0/05/Beep-09.ogg\").play()')"
      ]
    },
    {
      "cell_type": "markdown",
      "metadata": {
        "id": "AJHhCkpP3OOs"
      },
      "source": [
        "##### Create dataframe:"
      ]
    },
    {
      "cell_type": "code",
      "execution_count": 8,
      "metadata": {
        "colab": {
          "base_uri": "https://localhost:8080/"
        },
        "id": "Tu2xqa-Y3RBF",
        "outputId": "66c20b8d-3e5d-44bd-8d05-f1a7310ffc1e"
      },
      "outputs": [
        {
          "output_type": "stream",
          "name": "stdout",
          "text": [
            "+-------------------------------------------------+------+----------------------+------------------------------------------------------------------------------------------------------------------------------+---------------------------------------------------------------------------------------------------------------------------------------------------------------------------------------------------------------------------------------------------------------------------------------------------------------------------------------------------------------------------------------------------------------------------------------------------------------------------------------------------------------------------------------------------------------------------+-------+--------------------------------------------------------------------------------------------------------------------------------------------------------------------------------------------------------------------------------------------------------------------------------------------------------------------------------------------------------------------------------------------------------------------------------------------------------------------------------------------------------------------------------------------------------------------------------------+-----------------------------------------------------------------------------------------------------------------------------------------------------------------------------------------------------------------------------------------------------------------------------------------------------------------------------------------------------------------------------------------------------------------------------------------------------------------------------------------------------------------------------------------------------------------------------------------------------------------+-------------------+-----------------+--------------------------------------------------------------------------------------------------------------------------------------------------------------------------------------------------------------------------------------------------------------------------------------------------------------------------------------------------------------------------------------------------------------------------------------------------------------------------------------------------------+------------------------------------------------------------------------------------------------------------------------------------------------------------------------------------------------------------------------------------------------------------------------------------------------------------------------------------------------------------------------------------------------------------------------------------------------------------------------------------------------------------------------------------------------------------------------------------------------------------------------+------------------------------+---------+----------------------------------------------------+\n",
            "| Университет                                     | ЮЛ   | Регион присутствия   | Название проекта                                                                                                             | Описание проекта (в т.ч. продукт-решаемая проблема)                                                                                                                                                                                                                                                                                                                                                                                                                                                                                                                       | УГТ   | Текущие достижения и IP                                                                                                                                                                                                                                                                                                                                                                                                                                                                                                                                                              | Команда проекта                                                                                                                                                                                                                                                                                                                                                                                                                                                                                                                                                                                                 | Бизнес - модель   | Целевой рынок   | Дорожная карта / календарный план                                                                                                                                                                                                                                                                                                                                                                                                                                                                      | Результаты конкурентного анализа                                                                                                                                                                                                                                                                                                                                                                                                                                                                                                                                                                                       | Требуемый объем инвестиций   | Риски   | Название файла                                     |\n",
            "+=================================================+======+======================+==============================================================================================================================+===========================================================================================================================================================================================================================================================================================================================================================================================================================================================================================================================================================================+=======+======================================================================================================================================================================================================================================================================================================================================================================================================================================================================================================================================================================================+=================================================================================================================================================================================================================================================================================================================================================================================================================================================================================================================================================================================================================+===================+=================+========================================================================================================================================================================================================================================================================================================================================================================================================================================================================================================+========================================================================================================================================================================================================================================================================================================================================================================================================================================================================================================================================================================================================================+==============================+=========+====================================================+\n",
            "| Казанский федеральный университет               | НЕТ  | Республика Татарстан | Платформа генерации и обработки транскриптомных данных для выделения информативных биомаркеров и новых терапевтических целей | Платформа обеспечивает полный цикл работы с транскриптомными данными — от выделения РНК и секвенирования до биоинформатического анализа и формирования клинических рекомендаций. Технология ускоряет поиск молекулярных биомаркеров и терапевтических мишеней, решая проблему фрагментированности и длительности существующих исследований. Решение особенно актуально для ранней диагностики и лечения дегенеративных заболеваний скелетных мышц.                                                                                                                        | УГТ 3 | Разработаны и протестированы алгоритмы и биоинформатические пайплайны платформы, усовершенствованы протоколы регуляторной транскриптомики. Проведён сбор и подготовка образцов мышечных тканей и получены первичные транскриптомные данные. Имеется набор из 10 публикаций в международных журналах 2023–2024 гг., подтверждающих научный задел. Платформа проходит апробацию на образцах животных и биоптатах пациентов и достигла УГТ-3.                                                                                                                                           | Ключевые исполнители публикаций и проекта: А. Ананева, И. Сергеева, Е. Шагимарданова, А. Титова, С. Николаев и др. В штат входят 2 ведущих и 1 старший научный сотрудник-кандидата наук, 4 старших и 5,5 штатных научных сотрудников без степени, 2 младших научных сотрудника и лаборант-исследователь. Команда обладает экспертизой в регуляторной геномике, секвенировании и биоинформатике. Контактная площадка — НИЛ «Регуляторная геномика» ИФМБ КФУ, e-mail формата *@kpfu.ru.                                                                                                                           | НЕТ               | НЕТ             | Этап 1: 01.01.2025–30.06.2025 — разработка алгоритмов платформы. Этап 2: 01.07.2025–30.09.2025 — сбор и подготовка мышечных и человеческих образцов. Этап 3: 01.09.2025–22.12.2025 — апробация протоколов регуляторной транскриптомики и разработка пайплайнов анализа данных. Этап 4: 01.09.2025–22.12.2025 — проведение транскриптомного анализа и получение данных для выявления биомаркеров.                                                                                                       | Мировые аналоги (GENEWIZ/Azenta, QIAGEN Genomic Services, LC Sciences, Eurofins Genomics и др.) предлагают полный цикл услуг от выделения РНК до анализа, включая пространственную транскриптомику; российский рынок представлен разрозненными сервисами («Геноаналитика», NEXT GS, Genetico), покрывающими лишь отдельные этапы. Преимущество проекта КФУ — наличие единой платформы с полным циклом «от образца до инсайта», ориентированной на регуляторную транскриптомику и гистологическую визуализацию. Слабая сторона — отсутствие коммерческого опыта и готовой инфраструктуры уровня лидеров мирового рынка. | НЕТ                          | НЕТ     | 01.09.2025_01-03_874_Safin L.R._Ryabinina Yu.V.pdf |\n",
            "+-------------------------------------------------+------+----------------------+------------------------------------------------------------------------------------------------------------------------------+---------------------------------------------------------------------------------------------------------------------------------------------------------------------------------------------------------------------------------------------------------------------------------------------------------------------------------------------------------------------------------------------------------------------------------------------------------------------------------------------------------------------------------------------------------------------------+-------+--------------------------------------------------------------------------------------------------------------------------------------------------------------------------------------------------------------------------------------------------------------------------------------------------------------------------------------------------------------------------------------------------------------------------------------------------------------------------------------------------------------------------------------------------------------------------------------+-----------------------------------------------------------------------------------------------------------------------------------------------------------------------------------------------------------------------------------------------------------------------------------------------------------------------------------------------------------------------------------------------------------------------------------------------------------------------------------------------------------------------------------------------------------------------------------------------------------------+-------------------+-----------------+--------------------------------------------------------------------------------------------------------------------------------------------------------------------------------------------------------------------------------------------------------------------------------------------------------------------------------------------------------------------------------------------------------------------------------------------------------------------------------------------------------+------------------------------------------------------------------------------------------------------------------------------------------------------------------------------------------------------------------------------------------------------------------------------------------------------------------------------------------------------------------------------------------------------------------------------------------------------------------------------------------------------------------------------------------------------------------------------------------------------------------------+------------------------------+---------+----------------------------------------------------+\n",
            "| Казанский федеральный университет               | НЕТ  | Республика Татарстан | Тест-система для быстрого выявления возбудителей клещевого энцефалита и болезни Лайма                                        | Разрабатываются наборы реагентов, использующие метод изотермической амплификации (LAMP) для экспресс-детекции вируса клещевого энцефалита и боррелий прямо в образце. Технология устраняет необходимость дорогостоящего ПЦР-оборудования и позволяет определить патоген в течение суток после укуса клеща, что критично для своевременной терапии.                                                                                                                                                                                                                        | УГТ 1 | Создана база данных полногеномных последовательностей различных генетических вариантов вируса клещевого энцефалита и коллекция образцов клещей, положительных на боррелий. Разработаны и апробированы на реальных образцах прототипы реагентных наборов LAMP-диагностики. Проводится молекулярно-генетический анализ новых штаммов с целью уточнения праймеров. Оформление заявок на патенты пока не указано.                                                                                                                                                                        | Исполнитель проекта – научно-исследовательская лаборатория «Молекулярная вирусология» ИФМиБ КФУ под руководством заведующего лабораторией (ФИО не раскрыто). В штате: ведущий научный сотрудник (канд. наук), научный и младший научный сотрудники, два лаборанта-исследователя и инженер. Контактное лицо, указанное в документации, – Рябинина Ю.В.                                                                                                                                                                                                                                                           | НЕТ               | НЕТ             | 01.01.2025–31.03.2025 – выделение РНК из штаммов вируса клещевого энцефалита. 01.04.2025–30.06.2025 – конструирование библиотек для полногеномного секвенирования и первичный сбор клещей. 01.07.2025–30.09.2025 – дополнительный сбор клещей и секвенирование боррелий методом Сенгера. 01.10.2025–15.12.2025 – сборка полногеномных последовательностей ВКЭ, анализ генетических данных боррелий и формирование реагентных наборов.                                                                  | На рынке существуют ПЦР-наборы (Aid Autoimmun Diagnostika, Creative Biogene, Primerdesign и др.) и российские ПЦР-решения (ИнтерЛабСервис, Вектор-Бэст), однако аналогов, основанных на изотермической амплификации для ВКЭ и боррелий, нет. Проект выигрывает в скорости анализа и отсутствии необходимости в дорогостоящем оборудовании, но тест-система еще находится на ранней стадии готовности и требует доклинических валидаций.                                                                                                                                                                                | НЕТ                          | НЕТ     | 01.09.2025_01-03_876_Safin L.R._Kiyasov A.P.pdf    |\n",
            "+-------------------------------------------------+------+----------------------+------------------------------------------------------------------------------------------------------------------------------+---------------------------------------------------------------------------------------------------------------------------------------------------------------------------------------------------------------------------------------------------------------------------------------------------------------------------------------------------------------------------------------------------------------------------------------------------------------------------------------------------------------------------------------------------------------------------+-------+--------------------------------------------------------------------------------------------------------------------------------------------------------------------------------------------------------------------------------------------------------------------------------------------------------------------------------------------------------------------------------------------------------------------------------------------------------------------------------------------------------------------------------------------------------------------------------------+-----------------------------------------------------------------------------------------------------------------------------------------------------------------------------------------------------------------------------------------------------------------------------------------------------------------------------------------------------------------------------------------------------------------------------------------------------------------------------------------------------------------------------------------------------------------------------------------------------------------+-------------------+-----------------+--------------------------------------------------------------------------------------------------------------------------------------------------------------------------------------------------------------------------------------------------------------------------------------------------------------------------------------------------------------------------------------------------------------------------------------------------------------------------------------------------------+------------------------------------------------------------------------------------------------------------------------------------------------------------------------------------------------------------------------------------------------------------------------------------------------------------------------------------------------------------------------------------------------------------------------------------------------------------------------------------------------------------------------------------------------------------------------------------------------------------------------+------------------------------+---------+----------------------------------------------------+\n",
            "| Казанский (Приволжский) федеральный университет | НЕТ  | Республика Татарстан | Оценка наличия ценных компонент в добываемом на гигантских месторождениях флюиде и возможности промышленной добычи           | Команда КФУ разрабатывает методику прогнозной оценки содержания лития и других ценных микроэлементов в пластовых водах крупных нефтяных месторождений с применением высокоточных геохимических исследований и геолого-гидродинамического моделирования. Технология позволяет заранее выявлять участки с экономически обоснованными концентрациями элементов, рассчитывать извлекаемые запасы и планировать промышленное извлечение. Это решает проблему отсутствия достоверных данных о ресурсном потенциале пластовых вод и повышает эффективность добычи углеводородов. | УГТ 1 | Получены права на программу для ЭВМ «GeochemWater» (свидетельство RU 2020665143) для обработки микроэлементного и изотопного состава пластовых вод. Запатентован способ геохимического мониторинга эффективности работы скважин после химических методов увеличения нефтеотдачи (патент RU 2799218 C1). Опубликованы фундаментальные принципы методики оценки ценных компонентов в профильных журналах и материалах SPE/IOP. Планируется регистрация ещё одной программы для ЭВМ по итогам 2025 г. К 2027 г. ожидается создание макетного образца методики и вывод проекта на УГТ 3. | Руководитель проекта – к.ф.-м.н. Судаков Вячеслав Александрович, специалист по геохимии пластовых вод, автор более 30 статей и со-автор патента RU 2799218. Ведущий исследователь – д.г.-м.н. Нургалиев Дамир Камилевич, эксперт по геолого-гидродинамическому моделированию месторождений. Старший научный сотрудник – Шипаева Мария Сергеевна, автор программного обеспечения «GeochemWater» и ряда публикаций SPE. В команде также А.А. Шакиров, Д.Ф. Мингазов и А.А. Лутфуллин, обеспечивающие лабораторные анализы и интерпретацию данных. Контакт для связи: sudakov.va@kpfu.ru (эл. почта руководителя). | НЕТ               | НЕТ             | Этап 1: 01.01.2025–31.05.2025 – анализ литературы и формулирование гипотез миграции микроэлементов. Этап 2: 01.06.2025–15.08.2025 – геолого-геохимический обзор Татарстана и выделение перспективных зон. Этап 3: 16.08.2025–31.10.2025 – выбор оборудования и обоснование подхода к измерениям в лаборатории. Этап 4: 01.11.2025–31.12.2025 – обобщение результатов и подготовка плана детализированных исследований. К 2027 году – демонстрация макетного образца методики и переход на УГТ 3.       | НЕТ                                                                                                                                                                                                                                                                                                                                                                                                                                                                                                                                                                                                                    | НЕТ                          | НЕТ     | 01.09.2025_01-03_877_Safin L.R._Sudakov V.A.pdf    |\n",
            "+-------------------------------------------------+------+----------------------+------------------------------------------------------------------------------------------------------------------------------+---------------------------------------------------------------------------------------------------------------------------------------------------------------------------------------------------------------------------------------------------------------------------------------------------------------------------------------------------------------------------------------------------------------------------------------------------------------------------------------------------------------------------------------------------------------------------+-------+--------------------------------------------------------------------------------------------------------------------------------------------------------------------------------------------------------------------------------------------------------------------------------------------------------------------------------------------------------------------------------------------------------------------------------------------------------------------------------------------------------------------------------------------------------------------------------------+-----------------------------------------------------------------------------------------------------------------------------------------------------------------------------------------------------------------------------------------------------------------------------------------------------------------------------------------------------------------------------------------------------------------------------------------------------------------------------------------------------------------------------------------------------------------------------------------------------------------+-------------------+-----------------+--------------------------------------------------------------------------------------------------------------------------------------------------------------------------------------------------------------------------------------------------------------------------------------------------------------------------------------------------------------------------------------------------------------------------------------------------------------------------------------------------------+------------------------------------------------------------------------------------------------------------------------------------------------------------------------------------------------------------------------------------------------------------------------------------------------------------------------------------------------------------------------------------------------------------------------------------------------------------------------------------------------------------------------------------------------------------------------------------------------------------------------+------------------------------+---------+----------------------------------------------------+\n",
            "| Казанский федеральный университет               | НЕТ  | Республика Татарстан | Комплексное цифровое решение интегрированного планирования, мониторинга и оптимизации процессов добычи углеводородов         | Платформа использует алгоритмы оптимизации, машинное обучение и обработку больших данных для интегрированного планирования, мониторинга и оптимизации добычи углеводородов. Решение позволяет сократить простои скважин, оптимизировать графики работы КРС/ТРС-бригад и снизить капитальные и операционные затраты добывающих компаний.                                                                                                                                                                                                                                   | УГТ 2 | Проведён патентный ландшафт; по итогам 2025 г. планируется зарегистрировать 1 результат интеллектуальной деятельности (РИД) и обеспечить KPI в 2 РИД. Идет подготовка заявок на патенты, ведётся оформление охраноспособных алгоритмов.                                                                                                                                                                                                                                                                                                                                              | Руководитель проекта – Судаков В.А., заведующий НИЦ «Цифровая Земля» КФУ с опытом разработки цифровых решений для нефтегаза более 10 лет. Команда включает 4 старших научных сотрудника, 5 научных сотрудников, 8 ведущих инженеров, 3 инженера и других специалистов в области геологии, ИИ и разработки ПО.                                                                                                                                                                                                                                                                                                   | НЕТ               | НЕТ             | 01.01.2025–31.05.2025 – анализ требований и формализация структурной схемы модели. 01.06.2025–15.08.2025 – обзор методик сбора/анализа данных и выбор оптимальных подходов. 16.08.2025–31.10.2025 – разработка концепции и прототипов оптимизационных модулей. 01.11.2025–31.12.2025 – создание научно-методических прототипов и их верификация. К 2027 г. – доведение решения до УГТ-5 и испытания на полупромышленном объекте.                                                                       | НЕТ                                                                                                                                                                                                                                                                                                                                                                                                                                                                                                                                                                                                                    | НЕТ                          | НЕТ     | 01.09.2025_01-03_878_Safin L.R._Sudakov V.A.pdf    |\n",
            "+-------------------------------------------------+------+----------------------+------------------------------------------------------------------------------------------------------------------------------+---------------------------------------------------------------------------------------------------------------------------------------------------------------------------------------------------------------------------------------------------------------------------------------------------------------------------------------------------------------------------------------------------------------------------------------------------------------------------------------------------------------------------------------------------------------------------+-------+--------------------------------------------------------------------------------------------------------------------------------------------------------------------------------------------------------------------------------------------------------------------------------------------------------------------------------------------------------------------------------------------------------------------------------------------------------------------------------------------------------------------------------------------------------------------------------------+-----------------------------------------------------------------------------------------------------------------------------------------------------------------------------------------------------------------------------------------------------------------------------------------------------------------------------------------------------------------------------------------------------------------------------------------------------------------------------------------------------------------------------------------------------------------------------------------------------------------+-------------------+-----------------+--------------------------------------------------------------------------------------------------------------------------------------------------------------------------------------------------------------------------------------------------------------------------------------------------------------------------------------------------------------------------------------------------------------------------------------------------------------------------------------------------------+------------------------------------------------------------------------------------------------------------------------------------------------------------------------------------------------------------------------------------------------------------------------------------------------------------------------------------------------------------------------------------------------------------------------------------------------------------------------------------------------------------------------------------------------------------------------------------------------------------------------+------------------------------+---------+----------------------------------------------------+\n",
            "| Казанский (Приволжский) федеральный университет | НЕТ  | Республика Татарстан | Система проектирования и оптимизации применения газовых методов повышения нефтеотдачи на основе цифровых двойников           | Цифровая платформа объединяет численное гидродинамическое моделирование, PVT-анализ и специализированную базу данных для создания цифровых двойников нефтяных пластов. Решает проблему низкой нефтеотдачи на поздней стадии разработки, подбирая оптимальные параметры и типы газовых агентов (CO2, ПНГ) для закачки. Повышает коэффициент извлечения нефти и экономическую эффективность месторождений.                                                                                                                                                                  | УГТ 1 | Создана фундаментальная концепция технологии и теоретическое обоснование её полезности. Планируется довести прототип до УГТ 3 к 2027 году. По завершении работ в 2025 году предусмотрено получение одного результата интеллектуальной деятельности (РИД).                                                                                                                                                                                                                                                                                                                            | Руководитель проекта: Судаков В.А. Штат 2025 г.: 1 старший научный сотрудник, 4 младших научных сотрудника, 3 научных сотрудника, 3 ведущих инженера, 2 инженера и 1 лаборант-исследователь. Контактные данные в документе не указаны.                                                                                                                                                                                                                                                                                                                                                                          | НЕТ               | НЕТ             | 01.01.2025–31.05.2025: литературный обзор, определение пилотного участка и проблем месторождений. 01.06.2025–15.08.2025: систематизация мирового опыта, создание PVT-модели и настройка экспериментов. 16.08.2025–31.10.2025: формулировка рабочих гипотез, численное моделирование с учётом ключевых физико-химических факторов. 01.11.2025–31.12.2025: ранжирование факторов эффективности закачки, план лабораторных исследований. 2026–2027: финансируемое продолжение, вывод разработки на УГТ 3. | НЕТ                                                                                                                                                                                                                                                                                                                                                                                                                                                                                                                                                                                                                    | НЕТ                          | НЕТ     | 01.09.2025_01-03_880_Safin L.R._Sudakov V.A.pdf    |\n",
            "+-------------------------------------------------+------+----------------------+------------------------------------------------------------------------------------------------------------------------------+---------------------------------------------------------------------------------------------------------------------------------------------------------------------------------------------------------------------------------------------------------------------------------------------------------------------------------------------------------------------------------------------------------------------------------------------------------------------------------------------------------------------------------------------------------------------------+-------+--------------------------------------------------------------------------------------------------------------------------------------------------------------------------------------------------------------------------------------------------------------------------------------------------------------------------------------------------------------------------------------------------------------------------------------------------------------------------------------------------------------------------------------------------------------------------------------+-----------------------------------------------------------------------------------------------------------------------------------------------------------------------------------------------------------------------------------------------------------------------------------------------------------------------------------------------------------------------------------------------------------------------------------------------------------------------------------------------------------------------------------------------------------------------------------------------------------------+-------------------+-----------------+--------------------------------------------------------------------------------------------------------------------------------------------------------------------------------------------------------------------------------------------------------------------------------------------------------------------------------------------------------------------------------------------------------------------------------------------------------------------------------------------------------+------------------------------------------------------------------------------------------------------------------------------------------------------------------------------------------------------------------------------------------------------------------------------------------------------------------------------------------------------------------------------------------------------------------------------------------------------------------------------------------------------------------------------------------------------------------------------------------------------------------------+------------------------------+---------+----------------------------------------------------+\n"
          ]
        }
      ],
      "source": [
        "df = pd.DataFrame(df_fields)\n",
        "\n",
        "df.columns = ['Университет', 'ЮЛ', 'Регион присутствия', 'Название проекта', 'Описание проекта (в т.ч. продукт-решаемая проблема)', 'УГТ', 'Текущие достижения и IP',\\\n",
        "                                        'Команда проекта', 'Бизнес - модель', 'Целевой рынок', 'Дорожная карта / календарный план', 'Результаты конкурентного анализа', 'Требуемый объем инвестиций', 'Риски']\n",
        "\n",
        "df['Название файла'] = adresses\n",
        "df['Название файла'] = df['Название файла'].str.split('/').str[-1]\n",
        "\n",
        "print(df.head().to_markdown(index=False, tablefmt=\"grid\"))"
      ]
    },
    {
      "cell_type": "markdown",
      "metadata": {
        "id": "wLqBjFCw4Bm4"
      },
      "source": [
        "##### Add tech focus and NPTL:"
      ]
    },
    {
      "cell_type": "code",
      "execution_count": 9,
      "metadata": {
        "id": "kQOadhOF4DrT",
        "colab": {
          "base_uri": "https://localhost:8080/",
          "height": 52
        },
        "outputId": "8440bfbf-eafa-477a-b7ae-213c5039a13b"
      },
      "outputs": [
        {
          "output_type": "stream",
          "name": "stderr",
          "text": [
            "100%|██████████| 45/45 [00:06<00:00,  6.99it/s]\n",
            "100%|██████████| 45/45 [00:16<00:00,  2.75it/s]\n"
          ]
        }
      ],
      "source": [
        "df['Технологический фокус'] = parallel_text_func(list(df['Описание проекта (в т.ч. продукт-решаемая проблема)'].astype(str)), extract_technology, 10)\n",
        "df['НПТЛ'] = parallel_text_func(list(df['Описание проекта (в т.ч. продукт-решаемая проблема)'].astype(str)), nptl_class, 10)\n",
        "\n",
        "df[['Технологический фокус', 'НПТЛ']] = df[['Технологический фокус', 'НПТЛ']].replace(r'\\.', '', regex=True)\n",
        "output.eval_js('new Audio(\"https://upload.wikimedia.org/wikipedia/commons/0/05/Beep-09.ogg\").play()')"
      ]
    },
    {
      "cell_type": "markdown",
      "metadata": {
        "id": "do7z2dZCm7w7"
      },
      "source": [
        "##### Save dataframe:"
      ]
    },
    {
      "cell_type": "code",
      "execution_count": 10,
      "metadata": {
        "colab": {
          "base_uri": "https://localhost:8080/"
        },
        "id": "7JdTvxX_m-66",
        "outputId": "414706ba-3bd8-4cfb-f6ad-1ce0e1e96ebc"
      },
      "outputs": [
        {
          "output_type": "stream",
          "name": "stdout",
          "text": [
            "+-------------------------------------------------+------+----------------------+-----------------------------------------------------------------------------------------------------------------------------------------+---------------------------------------------------------------------------------------------------------------------------------------------------------------------------------------------------------------------------------------------------------------------------------------------------------------------------------------------------------------------------------------------------------------------------------------------------------------------------------------------------------------------------------------------------------------------------+-------------------------------------------+-------+----------------------------------------------------------------------------------------------------------------------------------------------------------------------+--------------------------------------------------------------------------------------------------------------------------------------------------------------------------------------------------------------------------------------------------------------------------------------------------------------------------------------------------------------------------------------------------------------------------------------------------------------------------------------------------------------------------------------------------------------------------------------+-----------------------------------------------------------------------------------------------------------------------------------------------------------------------------------------------------------------------------------------------------------------------------------------------------------------------------------------------------------------------------------------------------------------------------------------------------------------------------------------------------------------------------------------------------------------------------------------------------------------+-----------------------------------------------------------------------------------------------------------------------------------------------------------------------------------------------------------------------------------------------------------------------------------------------------+------------------------------------------------------------------------------------------------------------------------------------------------------------------------------------------------------------------------------------------------------------------------------------------------------------------------------------------------------------------+--------------------------------------------------------------------------------------------------------------------------------------------------------------------------------------------------------------------------------------------------------------------------------------------------------------------------------------------------------------------------------------------------------------------------------------------------------------------------------------------------------+------------------------------------------------------------------------------------------------------------------------------------------------------------------------------------------------------------------------------------------------------------------------------------------------------------------------------------------------------------------------------------------------------------------------------------------------------------------------------------------------------------------------------------------------------------------------------------------------------------------------+------------------------------+---------+\n",
            "| Университет                                     | ЮЛ   | Регион присутствия   | Название проекта                                                                                                                        | Описание проекта (в т.ч. продукт-решаемая проблема)                                                                                                                                                                                                                                                                                                                                                                                                                                                                                                                       | НПТЛ                                      | УГТ   | Технологический фокус                                                                                                                                                | Текущие достижения и IP                                                                                                                                                                                                                                                                                                                                                                                                                                                                                                                                                              | Команда проекта                                                                                                                                                                                                                                                                                                                                                                                                                                                                                                                                                                                                 | Бизнес - модель                                                                                                                                                                                                                                                                                     | Целевой рынок                                                                                                                                                                                                                                                                                                                                                    | Дорожная карта / календарный план                                                                                                                                                                                                                                                                                                                                                                                                                                                                      | Результаты конкурентного анализа                                                                                                                                                                                                                                                                                                                                                                                                                                                                                                                                                                                       | Требуемый объем инвестиций   | Риски   |\n",
            "+=================================================+======+======================+=========================================================================================================================================+===========================================================================================================================================================================================================================================================================================================================================================================================================================================================================================================================================================================+===========================================+=======+======================================================================================================================================================================+======================================================================================================================================================================================================================================================================================================================================================================================================================================================================================================================================================================================+=================================================================================================================================================================================================================================================================================================================================================================================================================================================================================================================================================================================================================+=====================================================================================================================================================================================================================================================================================================+==================================================================================================================================================================================================================================================================================================================================================================+========================================================================================================================================================================================================================================================================================================================================================================================================================================================================================================+========================================================================================================================================================================================================================================================================================================================================================================================================================================================================================================================================================================================================================+==============================+=========+\n",
            "| Казанский федеральный университет               | НЕТ  | Республика Татарстан | Платформа генерации и обработки транскриптомных данных для выделения информативных биомаркеров и новых терапевтических целей            | Платформа обеспечивает полный цикл работы с транскриптомными данными — от выделения РНК и секвенирования до биоинформатического анализа и формирования клинических рекомендаций. Технология ускоряет поиск молекулярных биомаркеров и терапевтических мишеней, решая проблему фрагментированности и длительности существующих исследований. Решение особенно актуально для ранней диагностики и лечения дегенеративных заболеваний скелетных мышц.                                                                                                                        | Новые технологии сбережения здоровья      | УГТ 3 | Выделение РНК, секвенирование, биоинформатический анализ, формирование клинических рекомендаций                                                                      | Разработаны и протестированы алгоритмы и биоинформатические пайплайны платформы, усовершенствованы протоколы регуляторной транскриптомики. Проведён сбор и подготовка образцов мышечных тканей и получены первичные транскриптомные данные. Имеется набор из 10 публикаций в международных журналах 2023–2024 гг., подтверждающих научный задел. Платформа проходит апробацию на образцах животных и биоптатах пациентов и достигла УГТ-3.                                                                                                                                           | Ключевые исполнители публикаций и проекта: А. Ананева, И. Сергеева, Е. Шагимарданова, А. Титова, С. Николаев и др. В штат входят 2 ведущих и 1 старший научный сотрудник-кандидата наук, 4 старших и 5,5 штатных научных сотрудников без степени, 2 младших научных сотрудника и лаборант-исследователь. Команда обладает экспертизой в регуляторной геномике, секвенировании и биоинформатике. Контактная площадка — НИЛ «Регуляторная геномика» ИФМБ КФУ, e-mail формата *@kpfu.ru.                                                                                                                           | НЕТ                                                                                                                                                                                                                                                                                                 | НЕТ                                                                                                                                                                                                                                                                                                                                                              | Этап 1: 01.01.2025–30.06.2025 — разработка алгоритмов платформы. Этап 2: 01.07.2025–30.09.2025 — сбор и подготовка мышечных и человеческих образцов. Этап 3: 01.09.2025–22.12.2025 — апробация протоколов регуляторной транскриптомики и разработка пайплайнов анализа данных. Этап 4: 01.09.2025–22.12.2025 — проведение транскриптомного анализа и получение данных для выявления биомаркеров.                                                                                                       | Мировые аналоги (GENEWIZ/Azenta, QIAGEN Genomic Services, LC Sciences, Eurofins Genomics и др.) предлагают полный цикл услуг от выделения РНК до анализа, включая пространственную транскриптомику; российский рынок представлен разрозненными сервисами («Геноаналитика», NEXT GS, Genetico), покрывающими лишь отдельные этапы. Преимущество проекта КФУ — наличие единой платформы с полным циклом «от образца до инсайта», ориентированной на регуляторную транскриптомику и гистологическую визуализацию. Слабая сторона — отсутствие коммерческого опыта и готовой инфраструктуры уровня лидеров мирового рынка. | НЕТ                          | НЕТ     |\n",
            "+-------------------------------------------------+------+----------------------+-----------------------------------------------------------------------------------------------------------------------------------------+---------------------------------------------------------------------------------------------------------------------------------------------------------------------------------------------------------------------------------------------------------------------------------------------------------------------------------------------------------------------------------------------------------------------------------------------------------------------------------------------------------------------------------------------------------------------------+-------------------------------------------+-------+----------------------------------------------------------------------------------------------------------------------------------------------------------------------+--------------------------------------------------------------------------------------------------------------------------------------------------------------------------------------------------------------------------------------------------------------------------------------------------------------------------------------------------------------------------------------------------------------------------------------------------------------------------------------------------------------------------------------------------------------------------------------+-----------------------------------------------------------------------------------------------------------------------------------------------------------------------------------------------------------------------------------------------------------------------------------------------------------------------------------------------------------------------------------------------------------------------------------------------------------------------------------------------------------------------------------------------------------------------------------------------------------------+-----------------------------------------------------------------------------------------------------------------------------------------------------------------------------------------------------------------------------------------------------------------------------------------------------+------------------------------------------------------------------------------------------------------------------------------------------------------------------------------------------------------------------------------------------------------------------------------------------------------------------------------------------------------------------+--------------------------------------------------------------------------------------------------------------------------------------------------------------------------------------------------------------------------------------------------------------------------------------------------------------------------------------------------------------------------------------------------------------------------------------------------------------------------------------------------------+------------------------------------------------------------------------------------------------------------------------------------------------------------------------------------------------------------------------------------------------------------------------------------------------------------------------------------------------------------------------------------------------------------------------------------------------------------------------------------------------------------------------------------------------------------------------------------------------------------------------+------------------------------+---------+\n",
            "| Казанский федеральный университет               | НЕТ  | Республика Татарстан | Тест-система для быстрого выявления возбудителей клещевого энцефалита и болезни Лайма                                                   | Разрабатываются наборы реагентов, использующие метод изотермической амплификации (LAMP) для экспресс-детекции вируса клещевого энцефалита и боррелий прямо в образце. Технология устраняет необходимость дорогостоящего ПЦР-оборудования и позволяет определить патоген в течение суток после укуса клеща, что критично для своевременной терапии.                                                                                                                                                                                                                        | Новые технологии сбережение здоровья      | УГТ 1 | Наборы реагентов, использующие метод изотермической амплификации (LAMP)                                                                                              | Создана база данных полногеномных последовательностей различных генетических вариантов вируса клещевого энцефалита и коллекция образцов клещей, положительных на боррелий. Разработаны и апробированы на реальных образцах прототипы реагентных наборов LAMP-диагностики. Проводится молекулярно-генетический анализ новых штаммов с целью уточнения праймеров. Оформление заявок на патенты пока не указано.                                                                                                                                                                        | Исполнитель проекта – научно-исследовательская лаборатория «Молекулярная вирусология» ИФМиБ КФУ под руководством заведующего лабораторией (ФИО не раскрыто). В штате: ведущий научный сотрудник (канд. наук), научный и младший научный сотрудники, два лаборанта-исследователя и инженер. Контактное лицо, указанное в документации, – Рябинина Ю.В.                                                                                                                                                                                                                                                           | НЕТ                                                                                                                                                                                                                                                                                                 | НЕТ                                                                                                                                                                                                                                                                                                                                                              | 01.01.2025–31.03.2025 – выделение РНК из штаммов вируса клещевого энцефалита. 01.04.2025–30.06.2025 – конструирование библиотек для полногеномного секвенирования и первичный сбор клещей. 01.07.2025–30.09.2025 – дополнительный сбор клещей и секвенирование боррелий методом Сенгера. 01.10.2025–15.12.2025 – сборка полногеномных последовательностей ВКЭ, анализ генетических данных боррелий и формирование реагентных наборов.                                                                  | На рынке существуют ПЦР-наборы (Aid Autoimmun Diagnostika, Creative Biogene, Primerdesign и др.) и российские ПЦР-решения (ИнтерЛабСервис, Вектор-Бэст), однако аналогов, основанных на изотермической амплификации для ВКЭ и боррелий, нет. Проект выигрывает в скорости анализа и отсутствии необходимости в дорогостоящем оборудовании, но тест-система еще находится на ранней стадии готовности и требует доклинических валидаций.                                                                                                                                                                                | НЕТ                          | НЕТ     |\n",
            "+-------------------------------------------------+------+----------------------+-----------------------------------------------------------------------------------------------------------------------------------------+---------------------------------------------------------------------------------------------------------------------------------------------------------------------------------------------------------------------------------------------------------------------------------------------------------------------------------------------------------------------------------------------------------------------------------------------------------------------------------------------------------------------------------------------------------------------------+-------------------------------------------+-------+----------------------------------------------------------------------------------------------------------------------------------------------------------------------+--------------------------------------------------------------------------------------------------------------------------------------------------------------------------------------------------------------------------------------------------------------------------------------------------------------------------------------------------------------------------------------------------------------------------------------------------------------------------------------------------------------------------------------------------------------------------------------+-----------------------------------------------------------------------------------------------------------------------------------------------------------------------------------------------------------------------------------------------------------------------------------------------------------------------------------------------------------------------------------------------------------------------------------------------------------------------------------------------------------------------------------------------------------------------------------------------------------------+-----------------------------------------------------------------------------------------------------------------------------------------------------------------------------------------------------------------------------------------------------------------------------------------------------+------------------------------------------------------------------------------------------------------------------------------------------------------------------------------------------------------------------------------------------------------------------------------------------------------------------------------------------------------------------+--------------------------------------------------------------------------------------------------------------------------------------------------------------------------------------------------------------------------------------------------------------------------------------------------------------------------------------------------------------------------------------------------------------------------------------------------------------------------------------------------------+------------------------------------------------------------------------------------------------------------------------------------------------------------------------------------------------------------------------------------------------------------------------------------------------------------------------------------------------------------------------------------------------------------------------------------------------------------------------------------------------------------------------------------------------------------------------------------------------------------------------+------------------------------+---------+\n",
            "| Казанский (Приволжский) федеральный университет | НЕТ  | Республика Татарстан | Оценка наличия ценных компонент в добываемом на гигантских месторождениях флюиде и возможности промышленной добычи                      | Команда КФУ разрабатывает методику прогнозной оценки содержания лития и других ценных микроэлементов в пластовых водах крупных нефтяных месторождений с применением высокоточных геохимических исследований и геолого-гидродинамического моделирования. Технология позволяет заранее выявлять участки с экономически обоснованными концентрациями элементов, рассчитывать извлекаемые запасы и планировать промышленное извлечение. Это решает проблему отсутствия достоверных данных о ресурсном потенциале пластовых вод и повышает эффективность добычи углеводородов. | Новые материалы и химия                   | УГТ 1 | Методика прогнозной оценки содержания лития и других микроэлементов с применением высокоточных геохимических исследований и геолого-гидродинамического моделирования | Получены права на программу для ЭВМ «GeochemWater» (свидетельство RU 2020665143) для обработки микроэлементного и изотопного состава пластовых вод. Запатентован способ геохимического мониторинга эффективности работы скважин после химических методов увеличения нефтеотдачи (патент RU 2799218 C1). Опубликованы фундаментальные принципы методики оценки ценных компонентов в профильных журналах и материалах SPE/IOP. Планируется регистрация ещё одной программы для ЭВМ по итогам 2025 г. К 2027 г. ожидается создание макетного образца методики и вывод проекта на УГТ 3. | Руководитель проекта – к.ф.-м.н. Судаков Вячеслав Александрович, специалист по геохимии пластовых вод, автор более 30 статей и со-автор патента RU 2799218. Ведущий исследователь – д.г.-м.н. Нургалиев Дамир Камилевич, эксперт по геолого-гидродинамическому моделированию месторождений. Старший научный сотрудник – Шипаева Мария Сергеевна, автор программного обеспечения «GeochemWater» и ряда публикаций SPE. В команде также А.А. Шакиров, Д.Ф. Мингазов и А.А. Лутфуллин, обеспечивающие лабораторные анализы и интерпретацию данных. Контакт для связи: sudakov.va@kpfu.ru (эл. почта руководителя). | НЕТ                                                                                                                                                                                                                                                                                                 | НЕТ                                                                                                                                                                                                                                                                                                                                                              | Этап 1: 01.01.2025–31.05.2025 – анализ литературы и формулирование гипотез миграции микроэлементов. Этап 2: 01.06.2025–15.08.2025 – геолого-геохимический обзор Татарстана и выделение перспективных зон. Этап 3: 16.08.2025–31.10.2025 – выбор оборудования и обоснование подхода к измерениям в лаборатории. Этап 4: 01.11.2025–31.12.2025 – обобщение результатов и подготовка плана детализированных исследований. К 2027 году – демонстрация макетного образца методики и переход на УГТ 3.       | НЕТ                                                                                                                                                                                                                                                                                                                                                                                                                                                                                                                                                                                                                    | НЕТ                          | НЕТ     |\n",
            "+-------------------------------------------------+------+----------------------+-----------------------------------------------------------------------------------------------------------------------------------------+---------------------------------------------------------------------------------------------------------------------------------------------------------------------------------------------------------------------------------------------------------------------------------------------------------------------------------------------------------------------------------------------------------------------------------------------------------------------------------------------------------------------------------------------------------------------------+-------------------------------------------+-------+----------------------------------------------------------------------------------------------------------------------------------------------------------------------+--------------------------------------------------------------------------------------------------------------------------------------------------------------------------------------------------------------------------------------------------------------------------------------------------------------------------------------------------------------------------------------------------------------------------------------------------------------------------------------------------------------------------------------------------------------------------------------+-----------------------------------------------------------------------------------------------------------------------------------------------------------------------------------------------------------------------------------------------------------------------------------------------------------------------------------------------------------------------------------------------------------------------------------------------------------------------------------------------------------------------------------------------------------------------------------------------------------------+-----------------------------------------------------------------------------------------------------------------------------------------------------------------------------------------------------------------------------------------------------------------------------------------------------+------------------------------------------------------------------------------------------------------------------------------------------------------------------------------------------------------------------------------------------------------------------------------------------------------------------------------------------------------------------+--------------------------------------------------------------------------------------------------------------------------------------------------------------------------------------------------------------------------------------------------------------------------------------------------------------------------------------------------------------------------------------------------------------------------------------------------------------------------------------------------------+------------------------------------------------------------------------------------------------------------------------------------------------------------------------------------------------------------------------------------------------------------------------------------------------------------------------------------------------------------------------------------------------------------------------------------------------------------------------------------------------------------------------------------------------------------------------------------------------------------------------+------------------------------+---------+\n",
            "| Казанский федеральный университет               | НЕТ  | Республика Татарстан | Комплексное цифровое решение интегрированного планирования, мониторинга и оптимизации процессов добычи углеводородов                    | Платформа использует алгоритмы оптимизации, машинное обучение и обработку больших данных для интегрированного планирования, мониторинга и оптимизации добычи углеводородов. Решение позволяет сократить простои скважин, оптимизировать графики работы КРС/ТРС-бригад и снизить капитальные и операционные затраты добывающих компаний.                                                                                                                                                                                                                                   | Экономика данных и цифровая трансформация | УГТ 2 | Алгоритмы оптимизации, машинное обучение и обработка больших данных                                                                                                  | Проведён патентный ландшафт; по итогам 2025 г. планируется зарегистрировать 1 результат интеллектуальной деятельности (РИД) и обеспечить KPI в 2 РИД. Идет подготовка заявок на патенты, ведётся оформление охраноспособных алгоритмов.                                                                                                                                                                                                                                                                                                                                              | Руководитель проекта – Судаков В.А., заведующий НИЦ «Цифровая Земля» КФУ с опытом разработки цифровых решений для нефтегаза более 10 лет. Команда включает 4 старших научных сотрудника, 5 научных сотрудников, 8 ведущих инженеров, 3 инженера и других специалистов в области геологии, ИИ и разработки ПО.                                                                                                                                                                                                                                                                                                   | НЕТ                                                                                                                                                                                                                                                                                                 | НЕТ                                                                                                                                                                                                                                                                                                                                                              | 01.01.2025–31.05.2025 – анализ требований и формализация структурной схемы модели. 01.06.2025–15.08.2025 – обзор методик сбора/анализа данных и выбор оптимальных подходов. 16.08.2025–31.10.2025 – разработка концепции и прототипов оптимизационных модулей. 01.11.2025–31.12.2025 – создание научно-методических прототипов и их верификация. К 2027 г. – доведение решения до УГТ-5 и испытания на полупромышленном объекте.                                                                       | НЕТ                                                                                                                                                                                                                                                                                                                                                                                                                                                                                                                                                                                                                    | НЕТ                          | НЕТ     |\n",
            "+-------------------------------------------------+------+----------------------+-----------------------------------------------------------------------------------------------------------------------------------------+---------------------------------------------------------------------------------------------------------------------------------------------------------------------------------------------------------------------------------------------------------------------------------------------------------------------------------------------------------------------------------------------------------------------------------------------------------------------------------------------------------------------------------------------------------------------------+-------------------------------------------+-------+----------------------------------------------------------------------------------------------------------------------------------------------------------------------+--------------------------------------------------------------------------------------------------------------------------------------------------------------------------------------------------------------------------------------------------------------------------------------------------------------------------------------------------------------------------------------------------------------------------------------------------------------------------------------------------------------------------------------------------------------------------------------+-----------------------------------------------------------------------------------------------------------------------------------------------------------------------------------------------------------------------------------------------------------------------------------------------------------------------------------------------------------------------------------------------------------------------------------------------------------------------------------------------------------------------------------------------------------------------------------------------------------------+-----------------------------------------------------------------------------------------------------------------------------------------------------------------------------------------------------------------------------------------------------------------------------------------------------+------------------------------------------------------------------------------------------------------------------------------------------------------------------------------------------------------------------------------------------------------------------------------------------------------------------------------------------------------------------+--------------------------------------------------------------------------------------------------------------------------------------------------------------------------------------------------------------------------------------------------------------------------------------------------------------------------------------------------------------------------------------------------------------------------------------------------------------------------------------------------------+------------------------------------------------------------------------------------------------------------------------------------------------------------------------------------------------------------------------------------------------------------------------------------------------------------------------------------------------------------------------------------------------------------------------------------------------------------------------------------------------------------------------------------------------------------------------------------------------------------------------+------------------------------+---------+\n",
            "| Казанский (Приволжский) федеральный университет | НЕТ  | Республика Татарстан | Система проектирования и оптимизации применения газовых методов повышения нефтеотдачи на основе цифровых двойников                      | Цифровая платформа объединяет численное гидродинамическое моделирование, PVT-анализ и специализированную базу данных для создания цифровых двойников нефтяных пластов. Решает проблему низкой нефтеотдачи на поздней стадии разработки, подбирая оптимальные параметры и типы газовых агентов (CO2, ПНГ) для закачки. Повышает коэффициент извлечения нефти и экономическую эффективность месторождений.                                                                                                                                                                  | Новые атомные и энергетические технологии | УГТ 1 | Численное гидродинамическое моделирование, PVT-анализ и специализированные базы данных                                                                               | Создана фундаментальная концепция технологии и теоретическое обоснование её полезности. Планируется довести прототип до УГТ 3 к 2027 году. По завершении работ в 2025 году предусмотрено получение одного результата интеллектуальной деятельности (РИД).                                                                                                                                                                                                                                                                                                                            | Руководитель проекта: Судаков В.А. Штат 2025 г.: 1 старший научный сотрудник, 4 младших научных сотрудника, 3 научных сотрудника, 3 ведущих инженера, 2 инженера и 1 лаборант-исследователь. Контактные данные в документе не указаны.                                                                                                                                                                                                                                                                                                                                                                          | НЕТ                                                                                                                                                                                                                                                                                                 | НЕТ                                                                                                                                                                                                                                                                                                                                                              | 01.01.2025–31.05.2025: литературный обзор, определение пилотного участка и проблем месторождений. 01.06.2025–15.08.2025: систематизация мирового опыта, создание PVT-модели и настройка экспериментов. 16.08.2025–31.10.2025: формулировка рабочих гипотез, численное моделирование с учётом ключевых физико-химических факторов. 01.11.2025–31.12.2025: ранжирование факторов эффективности закачки, план лабораторных исследований. 2026–2027: финансируемое продолжение, вывод разработки на УГТ 3. | НЕТ                                                                                                                                                                                                                                                                                                                                                                                                                                                                                                                                                                                                                    | НЕТ                          | НЕТ     |\n",
            "+-------------------------------------------------+------+----------------------+-----------------------------------------------------------------------------------------------------------------------------------------+---------------------------------------------------------------------------------------------------------------------------------------------------------------------------------------------------------------------------------------------------------------------------------------------------------------------------------------------------------------------------------------------------------------------------------------------------------------------------------------------------------------------------------------------------------------------------+-------------------------------------------+-------+----------------------------------------------------------------------------------------------------------------------------------------------------------------------+--------------------------------------------------------------------------------------------------------------------------------------------------------------------------------------------------------------------------------------------------------------------------------------------------------------------------------------------------------------------------------------------------------------------------------------------------------------------------------------------------------------------------------------------------------------------------------------+-----------------------------------------------------------------------------------------------------------------------------------------------------------------------------------------------------------------------------------------------------------------------------------------------------------------------------------------------------------------------------------------------------------------------------------------------------------------------------------------------------------------------------------------------------------------------------------------------------------------+-----------------------------------------------------------------------------------------------------------------------------------------------------------------------------------------------------------------------------------------------------------------------------------------------------+------------------------------------------------------------------------------------------------------------------------------------------------------------------------------------------------------------------------------------------------------------------------------------------------------------------------------------------------------------------+--------------------------------------------------------------------------------------------------------------------------------------------------------------------------------------------------------------------------------------------------------------------------------------------------------------------------------------------------------------------------------------------------------------------------------------------------------------------------------------------------------+------------------------------------------------------------------------------------------------------------------------------------------------------------------------------------------------------------------------------------------------------------------------------------------------------------------------------------------------------------------------------------------------------------------------------------------------------------------------------------------------------------------------------------------------------------------------------------------------------------------------+------------------------------+---------+\n",
            "| Казанский (Приволжский) федеральный университет | НЕТ  | Республика Татарстан | Технология прецизионного гидрогеохимического моделирования                                                                              | Разрабатывается технология высокоточного гидрогеохимического моделирования, которая интегрирует данные прецизионного геохимического мониторинга в цифровые гидродинамические модели нефтяных месторождений. Решение позволяет точнее прогнозировать распределение фильтрационных потоков и повышать успешность геолого-технических мероприятий на поздней стадии разработки месторождений. Тем самым снижается обводнённость скважин и повышается эффективность добычи нефти.                                                                                             | Новые атомные и энергетические технологии | УГТ 1 | Технология высокоточного гидрогеохимического моделирования с интеграцией данных прецизионного геохимического мониторинга в цифровые гидродинамические модели         | Создана программа для обработки микроэлементного и изотопного состава пластовых вод «GeochemWater» (свидетельство о регистрации ПО RU №2020665143). Зарегистрированы патенты RU 2751305 C1 и RU 2799218 C1 на способы геохимического мониторинга после ГРП и химических методов увеличения нефтеотдачи. Планируется получение ещё одного свидетельства на программу для ЭВМ по итогам 2025 г. Научные результаты публикуются в рецензируемых журналах и на международных конференциях.                                                                                               | Ключевые участники: д-р геол.-мин. наук Судаков В.А. (руководитель, эксперт по гидрогеохимическому моделированию); канд. техн. наук Шипаева М.С. (специалист по геохимическому мониторингу); д-р геол.-мин. наук Нургалиев Д.К. (консультант по нефтегазовым технологиям); Шакиров А.А., Заикин А.А. (разработчики ПО и патентообладатели). Опыт команды подтверждён публикациями SGEM, Georesursy и патентами, контакты руководителя: sudakov@kpfu.ru.                                                                                                                                                         | НЕТ                                                                                                                                                                                                                                                                                                 | НЕТ                                                                                                                                                                                                                                                                                                                                                              | Этап 1 (01.01-31.05.2025): анализ публикаций и систематизация геохимических данных. Этап 2 (01.06-15.08.2025): оцифровка данных и обзор использования их в моделях. Этап 3 (16.08-31.10.2025): классификация микрокомпонентов и разработка механизма импорта параметров в симуляторы. Этап 4 (01.11-31.12.2025): формирование рабочих гипотез и дизайн лабораторных исследований. К 2027 г. планируется довести проект до УГТ 3 и продемонстрировать макетный образец технологии.                      | Российских аналогов нет. За рубежом проприетарные решения разрабатываются крупными нефтяными компаниями, такими как Shell и BP; их подходы недоступны для локальных недропользователей. Преимущество проекта КФУ — открытость методики и адаптация под отечественные гидродинамические симуляторы; потенциальным недостатком является более ограниченная ресурсная база по сравнению с международными мейджорами.                                                                                                                                                                                                      | НЕТ                          | НЕТ     |\n",
            "+-------------------------------------------------+------+----------------------+-----------------------------------------------------------------------------------------------------------------------------------------+---------------------------------------------------------------------------------------------------------------------------------------------------------------------------------------------------------------------------------------------------------------------------------------------------------------------------------------------------------------------------------------------------------------------------------------------------------------------------------------------------------------------------------------------------------------------------+-------------------------------------------+-------+----------------------------------------------------------------------------------------------------------------------------------------------------------------------+--------------------------------------------------------------------------------------------------------------------------------------------------------------------------------------------------------------------------------------------------------------------------------------------------------------------------------------------------------------------------------------------------------------------------------------------------------------------------------------------------------------------------------------------------------------------------------------+-----------------------------------------------------------------------------------------------------------------------------------------------------------------------------------------------------------------------------------------------------------------------------------------------------------------------------------------------------------------------------------------------------------------------------------------------------------------------------------------------------------------------------------------------------------------------------------------------------------------+-----------------------------------------------------------------------------------------------------------------------------------------------------------------------------------------------------------------------------------------------------------------------------------------------------+------------------------------------------------------------------------------------------------------------------------------------------------------------------------------------------------------------------------------------------------------------------------------------------------------------------------------------------------------------------+--------------------------------------------------------------------------------------------------------------------------------------------------------------------------------------------------------------------------------------------------------------------------------------------------------------------------------------------------------------------------------------------------------------------------------------------------------------------------------------------------------+------------------------------------------------------------------------------------------------------------------------------------------------------------------------------------------------------------------------------------------------------------------------------------------------------------------------------------------------------------------------------------------------------------------------------------------------------------------------------------------------------------------------------------------------------------------------------------------------------------------------+------------------------------+---------+\n",
            "| Казанский федеральный университет               | НЕТ  | Республика Татарстан | Разработка биологически активного материала для закрытия раневых поверхностей                                                           | Технология разработала биологически активный хирургический шовный материал, функционализированный мезенхимными стволовыми клетками, который стимулирует регенерацию тканей и подавляет воспаление. Факторы роста и цитокины высвобождаются контролируемо, что ускоряет заживление ран и снижает риск бактериальных инфекций.                                                                                                                                                                                                                                              | Новые технологии сбережение здоровья      | УГТ 1 | Биологически активный шовный материал, функционализированный мезенхимными стволовыми клетками, с контролируемым высвобождением факторов роста и цитокинов            | Получен патент «Способ культивирования биомассы миобластов, полученных из мышц стерляди». Подготовлено 30 научных публикаций по тематике проекта. Криоконсервированные биологически активные нити продемонстрировали сохранение жизнеспособности адгезированных стволовых клеток.                                                                                                                                                                                                                                                                                                    | Исполнитель проекта – Рябинина Ю.В.; в штате 2 ведущих научных сотрудника, 1 старший научный сотрудник и лаборант-исследователь, обладающие опытом клеточных технологий и биоматериалов. В работу привлечены магистры и бакалавры Института фундаментальной медицины и биологии КФУ.                                                                                                                                                                                                                                                                                                                            | НЕТ                                                                                                                                                                                                                                                                                                 | НЕТ                                                                                                                                                                                                                                                                                                                                                              | 2025: получение и характеристика МСК, подготовка шовного материала (янв–март); посев клеток и анализ пролиферации (апр–июн); оценка метаболической активности до/после криоконсервации (июл–сен); испытания миграционной способности МСК и подготовка ДПО-программы (окт–дек). 2026–2027: исследования по биологической активации материала микровезикулами из МСК с достижением УГТ 3.                                                                                                                | НЕТ                                                                                                                                                                                                                                                                                                                                                                                                                                                                                                                                                                                                                    | НЕТ                          | НЕТ     |\n",
            "+-------------------------------------------------+------+----------------------+-----------------------------------------------------------------------------------------------------------------------------------------+---------------------------------------------------------------------------------------------------------------------------------------------------------------------------------------------------------------------------------------------------------------------------------------------------------------------------------------------------------------------------------------------------------------------------------------------------------------------------------------------------------------------------------------------------------------------------+-------------------------------------------+-------+----------------------------------------------------------------------------------------------------------------------------------------------------------------------+--------------------------------------------------------------------------------------------------------------------------------------------------------------------------------------------------------------------------------------------------------------------------------------------------------------------------------------------------------------------------------------------------------------------------------------------------------------------------------------------------------------------------------------------------------------------------------------+-----------------------------------------------------------------------------------------------------------------------------------------------------------------------------------------------------------------------------------------------------------------------------------------------------------------------------------------------------------------------------------------------------------------------------------------------------------------------------------------------------------------------------------------------------------------------------------------------------------------+-----------------------------------------------------------------------------------------------------------------------------------------------------------------------------------------------------------------------------------------------------------------------------------------------------+------------------------------------------------------------------------------------------------------------------------------------------------------------------------------------------------------------------------------------------------------------------------------------------------------------------------------------------------------------------+--------------------------------------------------------------------------------------------------------------------------------------------------------------------------------------------------------------------------------------------------------------------------------------------------------------------------------------------------------------------------------------------------------------------------------------------------------------------------------------------------------+------------------------------------------------------------------------------------------------------------------------------------------------------------------------------------------------------------------------------------------------------------------------------------------------------------------------------------------------------------------------------------------------------------------------------------------------------------------------------------------------------------------------------------------------------------------------------------------------------------------------+------------------------------+---------+\n",
            "| Казанский федеральный университет               | НЕТ  | Республика Татарстан | Разработка дополнительных профессиональных программ повышения квалификации «Системы беспилотных авиационных систем»                     | Проект создает три программы дополнительного профессионального образования для операторов, техников-наладчиков и специалистов по обнаружению мультироторных беспилотных авиационных систем. Используется компетенция Центра превосходства «Специальная робототехника и искусственный интеллект» КФУ и накопленные программно-аппаратные решения по автономным платформам. Программы решают дефицит квалифицированных кадров для быстрорастущего рынка БАС.                                                                                                                | Беспилотные авиационные системы           | НЕТ   | Используются программно-аппаратные решения по автономным платформам и компетенции в области специальной робототехники и искусственного интеллекта                    | В 2022-2024 гг. команда зарегистрировала более 25 программ для ЭВМ, включая пакеты для эмуляции облёта местности БПЛА, построения маршрутов и обмена данными с ГНСС, а также ПО низкоуровневого управления беспилотными тракторами. На каждую разработку получены свидетельства государственной регистрации (№2024689778, №2024689261 и др.). В 2025 г. планируется создать ещё 3 РИД на учебные материалы программ ДПО.                                                                                                                                                             | Ключевые разработчики: Егорчев А.А., Чикрин Д.Е., Пашин Д.М., Фахрутдинов А.Ф., Державин Д.В. и др., обладающие опытом в робототехнике, ПО для БПЛА и обучении. Руководство – директор Центра и заместитель директора; в штате 35+ инженеров, программистов и техников. Контактный координатор проекта – Сабирова Л.И. (исполнитель приказа №01-03/766).                                                                                                                                                                                                                                                        | Доход от реализации платных программ ДПО; целевые показатели – 3 млн руб. в 2025 г. и 17 млн руб. в 2026 г. Продажи осуществляются через образовательную платформу КФУ и корпоративные контракты с индустриальными партнёрами.                                                                      | Российский рынок подготовки специалистов для беспилотных авиационных систем оценивается в десятки миллиардов рублей с ежегодным ростом >20 %. Целевой сегмент – обучение операторов и технического персонала БАС для промышленности, сельского хозяйства и силовых структур; прогнозируемый платёжеспособный спрос на 2025-2026 гг. – не менее 2 000 слушателей. | Этап 1: 01.2025–09.2025 – разработка материалов и учебных программ. Этап 2: 07.2025 – оформление документации и приказы об открытии программ. Этап 3: 10.2025–12.2025 – пилотное обучение первых групп слушателей. 09.2025–12.2025 – регистрация новых РИД на учебные издания.                                                                                                                                                                                                                         | Российские аналоги: программы ТГУ, РЭУ им. Плеханова, ООО «1Т», Федерация гонок дронов. Преимущество проекта КФУ – наличие собственного ИИ-стека и ПО для БПЛА, что обеспечивает более практико-ориентированное обучение; слабое место – меньшая географическая представленность по сравнению с федеральными онлайн-платформами. На мировом рынке конкурируют DJI Academy и Embry-Riddle, однако они адаптированы под иные регуляторные нормы.                                                                                                                                                                         | НЕТ                          | НЕТ     |\n",
            "+-------------------------------------------------+------+----------------------+-----------------------------------------------------------------------------------------------------------------------------------------+---------------------------------------------------------------------------------------------------------------------------------------------------------------------------------------------------------------------------------------------------------------------------------------------------------------------------------------------------------------------------------------------------------------------------------------------------------------------------------------------------------------------------------------------------------------------------+-------------------------------------------+-------+----------------------------------------------------------------------------------------------------------------------------------------------------------------------+--------------------------------------------------------------------------------------------------------------------------------------------------------------------------------------------------------------------------------------------------------------------------------------------------------------------------------------------------------------------------------------------------------------------------------------------------------------------------------------------------------------------------------------------------------------------------------------+-----------------------------------------------------------------------------------------------------------------------------------------------------------------------------------------------------------------------------------------------------------------------------------------------------------------------------------------------------------------------------------------------------------------------------------------------------------------------------------------------------------------------------------------------------------------------------------------------------------------+-----------------------------------------------------------------------------------------------------------------------------------------------------------------------------------------------------------------------------------------------------------------------------------------------------+------------------------------------------------------------------------------------------------------------------------------------------------------------------------------------------------------------------------------------------------------------------------------------------------------------------------------------------------------------------+--------------------------------------------------------------------------------------------------------------------------------------------------------------------------------------------------------------------------------------------------------------------------------------------------------------------------------------------------------------------------------------------------------------------------------------------------------------------------------------------------------+------------------------------------------------------------------------------------------------------------------------------------------------------------------------------------------------------------------------------------------------------------------------------------------------------------------------------------------------------------------------------------------------------------------------------------------------------------------------------------------------------------------------------------------------------------------------------------------------------------------------+------------------------------+---------+\n",
            "| Казанский федеральный университет               | НЕТ  | Республика Татарстан | Технологии повышения эффективности разработки залежей газоконденсата                                                                    | Комплекс алгоритмов и цифровых инструментов на базе гидродинамического моделирования и методов машинного обучения оптимизирует планирование сайклинг-процесса и ГРП на газоконденсатных месторождениях. Технология позволяет повысить коэффициент извлечения газа, конденсата и нефти за счёт более точного подбора параметров закачки и добычи. Решается проблема низкой продуктивности скважин и недостаточной информативности полевых исследований.                                                                                                                    | Новые атомные и энергетические технологии | УГТ 1 | Комплекс алгоритмов и цифровых инструментов на базе гидродинамического моделирования и методов машинного обучения                                                    | Имеется опубликованный научный задел (не менее 6 статей и тезисов), подготовлен макетный гидродинамический прототип; планируется получение 1 свидетельства о регистрации программы для ЭВМ по итогам 2025 г. К 2027 г. проект предполагает доведение до УГТ 3 с демонстрацией ключевых характеристик.                                                                                                                                                                                                                                                                                | Руководитель НИЛ – В.А. Судаков, д.н.; ключевые исследователи: А.Н. Шандрыгин (эксперт по ГРП), Г.Д. Хашан (моделирование притока), З.Р. Саптарова (машинное обучение), С.А. Усманов (гидродинамика). Штат 2025 г.: 1 профессор, 5 старших и 4 младших научных сотрудников, инженеры и лаборанты; контактное лицо – Судаков В.А., e-mail: sudakov@kpfu.ru.                                                                                                                                                                                                                                                      | НЕТ                                                                                                                                                                                                                                                                                                 | НЕТ                                                                                                                                                                                                                                                                                                                                                              | 01.2025–05.2025: анализ публикаций и построение базовых гидродинамических моделей одной скважины. 06.2025–08.2025: модели с двумя скважинами и экономическая модель, оценка различных сценариев закачки. 08.2025–10.2025: формирование базы данных и обучение нейросетевой модели, создание прототипа инструмента подбора параметров сайклинга. 11.2025–12.2025: систематизация результатов, выбор оптимальных систем разработки НГК залежей и формирование гипотез для 2026–2027 гг.                  | НЕТ                                                                                                                                                                                                                                                                                                                                                                                                                                                                                                                                                                                                                    | НЕТ                          | НЕТ     |\n",
            "+-------------------------------------------------+------+----------------------+-----------------------------------------------------------------------------------------------------------------------------------------+---------------------------------------------------------------------------------------------------------------------------------------------------------------------------------------------------------------------------------------------------------------------------------------------------------------------------------------------------------------------------------------------------------------------------------------------------------------------------------------------------------------------------------------------------------------------------+-------------------------------------------+-------+----------------------------------------------------------------------------------------------------------------------------------------------------------------------+--------------------------------------------------------------------------------------------------------------------------------------------------------------------------------------------------------------------------------------------------------------------------------------------------------------------------------------------------------------------------------------------------------------------------------------------------------------------------------------------------------------------------------------------------------------------------------------+-----------------------------------------------------------------------------------------------------------------------------------------------------------------------------------------------------------------------------------------------------------------------------------------------------------------------------------------------------------------------------------------------------------------------------------------------------------------------------------------------------------------------------------------------------------------------------------------------------------------+-----------------------------------------------------------------------------------------------------------------------------------------------------------------------------------------------------------------------------------------------------------------------------------------------------+------------------------------------------------------------------------------------------------------------------------------------------------------------------------------------------------------------------------------------------------------------------------------------------------------------------------------------------------------------------+--------------------------------------------------------------------------------------------------------------------------------------------------------------------------------------------------------------------------------------------------------------------------------------------------------------------------------------------------------------------------------------------------------------------------------------------------------------------------------------------------------+------------------------------------------------------------------------------------------------------------------------------------------------------------------------------------------------------------------------------------------------------------------------------------------------------------------------------------------------------------------------------------------------------------------------------------------------------------------------------------------------------------------------------------------------------------------------------------------------------------------------+------------------------------+---------+\n",
            "| Казанский федеральный университет               | НЕТ  | Республика Татарстан | Сверхкритические флюидные технологии для повышения эффективности добычи нефти в низкопроницаемых коллекторах и нефтематеринских породах | Технология воздействия сверхкритическими флюидами (вода, CO₂ с пропан-бутановыми ко-растворителями) на пласт снижает вязкость и межфазное натяжение нефти, переводит породу в водо- или нейтрально-смачиваемое состояние и уменьшает остаточную нефтенасыщенность. Решает проблему низкой нефтеотдачи трудноизвлекаемых запасов нефти, одновременно сокращая углеродный след добычи.                                                                                                                                                                                      | Новые атомные и энергетические технологии | УГТ 3 | Сверхкритические флюиды для снижения вязкости и межфазного натяжения                                                                                                 | Получены и поданы 4 патента РФ на каталитические композиции и способы повышения нефтеотдачи с использованием сверхкритических флюидов. Сформирован пакет публикаций Q1-Q3 уровня, подтверждающий научную новизну (более 5 статей в журналах Fuel, ACS Omega, SPE и др.). В 2025 г. планируется подача ещё 2 патентов на режимы СКВ-обработки и «Протокол СКВ».                                                                                                                                                                                                                       | Ключевые исполнители: д.т.н. Дмитрий К. Нургалиев (научный руководитель, 25+ лет в нефтегазовых технологиях), д.х.н. Михаил А. Варфоломеев (эксперт по сверхкритическим флюидам), PhD Ameen A. Al-Muntaser (каталитические композиции для апгрейда тяжёлых нефтей), а также группы старших и младших научных сотрудников Института геологии и нефтегазовых технологий КФУ. Контакт e-mail лаборатории: geo-lab@kpfu.ru.                                                                                                                                                                                         | Модель B2B: лицензирование патентов и технологических регламентов нефтегазовым компаниям. Дополнительный доход — выполнение контрактных НИОКР и опытно-промышленных работ по повышению нефтеотдачи на действующих месторождениях. Возможен франчайзинг сервисных услуг по внедрению СКФ-технологий. | НЕТ                                                                                                                                                                                                                                                                                                                                                              | 01.01–31.05.2025 г.: анализ литературы, подбор составов СКВ/CO₂ ± растворители. 01.06–15.08.2025 г.: геохимические и петрофизические исследования пород, формирование базы параметров. 16.08–31.10.2025 г.: лабораторные испытания и оптимизация режимов воздействия, создание базовой модели. 01.11–31.12.2025 г.: валидация, финальные операционные карты, подготовка ТЭО и отчёта НИОКТР.                                                                                                           | Российских коммерческих аналогов нет; за рубежом исследования ведут группы Liejin Guo (Китай, Xi’an Jiaotong University), Morteza Hosseinpour (Иран, Niroo Research Institute), Kunio Yoshikawa (Япония, Tokyo of Science) и William H. Green (США, MIT). Наш проект превосходит их за счёт фокуса на низкопроницаемые коллекторы РФ и разработанных патентованных каталитических добавок; уступает в масштабах пилотных установок, которые у иностранных команд уже на стадии прототипов.                                                                                                                             | НЕТ                          | НЕТ     |\n",
            "+-------------------------------------------------+------+----------------------+-----------------------------------------------------------------------------------------------------------------------------------------+---------------------------------------------------------------------------------------------------------------------------------------------------------------------------------------------------------------------------------------------------------------------------------------------------------------------------------------------------------------------------------------------------------------------------------------------------------------------------------------------------------------------------------------------------------------------------+-------------------------------------------+-------+----------------------------------------------------------------------------------------------------------------------------------------------------------------------+--------------------------------------------------------------------------------------------------------------------------------------------------------------------------------------------------------------------------------------------------------------------------------------------------------------------------------------------------------------------------------------------------------------------------------------------------------------------------------------------------------------------------------------------------------------------------------------+-----------------------------------------------------------------------------------------------------------------------------------------------------------------------------------------------------------------------------------------------------------------------------------------------------------------------------------------------------------------------------------------------------------------------------------------------------------------------------------------------------------------------------------------------------------------------------------------------------------------+-----------------------------------------------------------------------------------------------------------------------------------------------------------------------------------------------------------------------------------------------------------------------------------------------------+------------------------------------------------------------------------------------------------------------------------------------------------------------------------------------------------------------------------------------------------------------------------------------------------------------------------------------------------------------------+--------------------------------------------------------------------------------------------------------------------------------------------------------------------------------------------------------------------------------------------------------------------------------------------------------------------------------------------------------------------------------------------------------------------------------------------------------------------------------------------------------+------------------------------------------------------------------------------------------------------------------------------------------------------------------------------------------------------------------------------------------------------------------------------------------------------------------------------------------------------------------------------------------------------------------------------------------------------------------------------------------------------------------------------------------------------------------------------------------------------------------------+------------------------------+---------+\n"
          ]
        }
      ],
      "source": [
        "df = df[['Университет', 'ЮЛ', 'Регион присутствия', 'Название проекта', 'Описание проекта (в т.ч. продукт-решаемая проблема)', 'НПТЛ', 'УГТ',\\\n",
        "         'Технологический фокус', 'Текущие достижения и IP', 'Команда проекта', 'Бизнес - модель', 'Целевой рынок', 'Дорожная карта / календарный план',\\\n",
        "         'Результаты конкурентного анализа', 'Требуемый объем инвестиций', 'Риски']]\n",
        "\n",
        "print(df.head(10).to_markdown(index=False, tablefmt=\"grid\"))"
      ]
    },
    {
      "cell_type": "markdown",
      "metadata": {
        "id": "Q2YnQ3t85jWm"
      },
      "source": [
        "##### Save to xlsx:"
      ]
    },
    {
      "cell_type": "code",
      "execution_count": 11,
      "metadata": {
        "colab": {
          "base_uri": "https://localhost:8080/",
          "height": 17
        },
        "id": "iWjURaeI5mPn",
        "outputId": "2e360acd-4a69-4202-8afe-1adf1d176e98"
      },
      "outputs": [
        {
          "output_type": "display_data",
          "data": {
            "text/plain": [
              "<IPython.core.display.Javascript object>"
            ],
            "application/javascript": [
              "\n",
              "    async function download(id, filename, size) {\n",
              "      if (!google.colab.kernel.accessAllowed) {\n",
              "        return;\n",
              "      }\n",
              "      const div = document.createElement('div');\n",
              "      const label = document.createElement('label');\n",
              "      label.textContent = `Downloading \"${filename}\": `;\n",
              "      div.appendChild(label);\n",
              "      const progress = document.createElement('progress');\n",
              "      progress.max = size;\n",
              "      div.appendChild(progress);\n",
              "      document.body.appendChild(div);\n",
              "\n",
              "      const buffers = [];\n",
              "      let downloaded = 0;\n",
              "\n",
              "      const channel = await google.colab.kernel.comms.open(id);\n",
              "      // Send a message to notify the kernel that we're ready.\n",
              "      channel.send({})\n",
              "\n",
              "      for await (const message of channel.messages) {\n",
              "        // Send a message to notify the kernel that we're ready.\n",
              "        channel.send({})\n",
              "        if (message.buffers) {\n",
              "          for (const buffer of message.buffers) {\n",
              "            buffers.push(buffer);\n",
              "            downloaded += buffer.byteLength;\n",
              "            progress.value = downloaded;\n",
              "          }\n",
              "        }\n",
              "      }\n",
              "      const blob = new Blob(buffers, {type: 'application/binary'});\n",
              "      const a = document.createElement('a');\n",
              "      a.href = window.URL.createObjectURL(blob);\n",
              "      a.download = filename;\n",
              "      div.appendChild(a);\n",
              "      a.click();\n",
              "      div.remove();\n",
              "    }\n",
              "  "
            ]
          },
          "metadata": {}
        },
        {
          "output_type": "display_data",
          "data": {
            "text/plain": [
              "<IPython.core.display.Javascript object>"
            ],
            "application/javascript": [
              "download(\"download_963e291e-b481-495c-ae88-1dc20b400a53\", \"science_pitches.xlsx\", 54052)"
            ]
          },
          "metadata": {}
        }
      ],
      "source": [
        "df.to_excel('science_pitches.xlsx', index=False)\n",
        "files.download('science_pitches.xlsx')"
      ]
    }
  ],
  "metadata": {
    "accelerator": "GPU",
    "colab": {
      "collapsed_sections": [
        "B59bq5skxkBS",
        "9PgXsB5kxpkF",
        "ibVtdNydwZJj",
        "uz890Tzywq7C",
        "ILekkyFAQotF",
        "raVzrK7J0WJm",
        "-mDahnDV2Erp"
      ],
      "gpuType": "T4",
      "machine_shape": "hm",
      "provenance": [],
      "include_colab_link": true
    },
    "kernelspec": {
      "display_name": "Python 3",
      "name": "python3"
    },
    "language_info": {
      "name": "python"
    }
  },
  "nbformat": 4,
  "nbformat_minor": 0
}